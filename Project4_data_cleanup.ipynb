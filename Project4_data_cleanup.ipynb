{
 "cells": [
  {
   "cell_type": "markdown",
   "id": "7bbeba00",
   "metadata": {},
   "source": [
    "### Project 4: From Courtside to Spreadsheet: Unveiling Basketball Analytics"
   ]
  },
  {
   "cell_type": "markdown",
   "id": "ffb2d915",
   "metadata": {},
   "source": [
    "### Import Libraries and Load Data\n"
   ]
  },
  {
   "cell_type": "code",
   "execution_count": 1,
   "id": "72fb7d35",
   "metadata": {},
   "outputs": [],
   "source": [
    "import pandas as pd \n",
    "import numpy as np\n",
    "import matplotlib.pyplot as plt\n",
    "import seaborn as sns\n",
    "# Turn off warning messages\n",
    "import warnings\n",
    "warnings.filterwarnings(\"ignore\")"
   ]
  },
  {
   "cell_type": "code",
   "execution_count": 2,
   "id": "f99f9e3a",
   "metadata": {},
   "outputs": [],
   "source": [
    "# Load the CSV files into a Pandas DataFrames\n",
    "# Source: https://www.kaggle.com/datasets/nathanlauga/nba-games\n",
    "ranking = pd.read_csv(r\"Resources\\ranking.csv\")\n",
    "# Manualy created doc to relate Season_ID and Year\n",
    "season_id_lookup = pd.read_csv(\"Resources\\season_id_lookup.csv\")\n",
    "#Source:  https://www.kaggle.com/datasets/drgilermo/nba-players-stats?resource=download \n",
    "seasons_stats = pd.read_csv(\"Resources\\Seasons_Stats.csv\")\n",
    "# Manualy created doc with teams per each year due to the movment of the teams to different home locations \n",
    "year_team_abrev_lookup = pd.read_csv(r\"Resources\\year_team_abrev_lookup.csv\")"
   ]
  },
  {
   "cell_type": "code",
   "execution_count": 3,
   "id": "a34cb131",
   "metadata": {},
   "outputs": [
    {
     "data": {
      "text/html": [
       "<div>\n",
       "<style scoped>\n",
       "    .dataframe tbody tr th:only-of-type {\n",
       "        vertical-align: middle;\n",
       "    }\n",
       "\n",
       "    .dataframe tbody tr th {\n",
       "        vertical-align: top;\n",
       "    }\n",
       "\n",
       "    .dataframe thead th {\n",
       "        text-align: right;\n",
       "    }\n",
       "</style>\n",
       "<table border=\"1\" class=\"dataframe\">\n",
       "  <thead>\n",
       "    <tr style=\"text-align: right;\">\n",
       "      <th></th>\n",
       "      <th>TEAM_ID</th>\n",
       "      <th>LEAGUE_ID</th>\n",
       "      <th>SEASON_ID</th>\n",
       "      <th>STANDINGSDATE</th>\n",
       "      <th>CONFERENCE</th>\n",
       "      <th>TEAM</th>\n",
       "      <th>G</th>\n",
       "      <th>W</th>\n",
       "      <th>L</th>\n",
       "      <th>W_PCT</th>\n",
       "      <th>HOME_RECORD</th>\n",
       "      <th>ROAD_RECORD</th>\n",
       "      <th>RETURNTOPLAY</th>\n",
       "    </tr>\n",
       "  </thead>\n",
       "  <tbody>\n",
       "    <tr>\n",
       "      <th>0</th>\n",
       "      <td>1610612762</td>\n",
       "      <td>0</td>\n",
       "      <td>22020</td>\n",
       "      <td>5/26/2021</td>\n",
       "      <td>West</td>\n",
       "      <td>Utah</td>\n",
       "      <td>72</td>\n",
       "      <td>52</td>\n",
       "      <td>20</td>\n",
       "      <td>0.722</td>\n",
       "      <td>31-5</td>\n",
       "      <td>21-15</td>\n",
       "      <td>NaN</td>\n",
       "    </tr>\n",
       "    <tr>\n",
       "      <th>1</th>\n",
       "      <td>1610612756</td>\n",
       "      <td>0</td>\n",
       "      <td>22020</td>\n",
       "      <td>5/26/2021</td>\n",
       "      <td>West</td>\n",
       "      <td>Phoenix</td>\n",
       "      <td>72</td>\n",
       "      <td>51</td>\n",
       "      <td>21</td>\n",
       "      <td>0.708</td>\n",
       "      <td>27-9</td>\n",
       "      <td>24-12</td>\n",
       "      <td>NaN</td>\n",
       "    </tr>\n",
       "    <tr>\n",
       "      <th>2</th>\n",
       "      <td>1610612743</td>\n",
       "      <td>0</td>\n",
       "      <td>22020</td>\n",
       "      <td>5/26/2021</td>\n",
       "      <td>West</td>\n",
       "      <td>Denver</td>\n",
       "      <td>72</td>\n",
       "      <td>47</td>\n",
       "      <td>25</td>\n",
       "      <td>0.653</td>\n",
       "      <td>25-11</td>\n",
       "      <td>22-14</td>\n",
       "      <td>NaN</td>\n",
       "    </tr>\n",
       "    <tr>\n",
       "      <th>3</th>\n",
       "      <td>1610612746</td>\n",
       "      <td>0</td>\n",
       "      <td>22020</td>\n",
       "      <td>5/26/2021</td>\n",
       "      <td>West</td>\n",
       "      <td>LA Clippers</td>\n",
       "      <td>72</td>\n",
       "      <td>47</td>\n",
       "      <td>25</td>\n",
       "      <td>0.653</td>\n",
       "      <td>26-10</td>\n",
       "      <td>21-15</td>\n",
       "      <td>NaN</td>\n",
       "    </tr>\n",
       "    <tr>\n",
       "      <th>4</th>\n",
       "      <td>1610612742</td>\n",
       "      <td>0</td>\n",
       "      <td>22020</td>\n",
       "      <td>5/26/2021</td>\n",
       "      <td>West</td>\n",
       "      <td>Dallas</td>\n",
       "      <td>72</td>\n",
       "      <td>42</td>\n",
       "      <td>30</td>\n",
       "      <td>0.583</td>\n",
       "      <td>21-15</td>\n",
       "      <td>21-15</td>\n",
       "      <td>NaN</td>\n",
       "    </tr>\n",
       "  </tbody>\n",
       "</table>\n",
       "</div>"
      ],
      "text/plain": [
       "      TEAM_ID  LEAGUE_ID  SEASON_ID STANDINGSDATE CONFERENCE         TEAM   G  \\\n",
       "0  1610612762          0      22020     5/26/2021       West         Utah  72   \n",
       "1  1610612756          0      22020     5/26/2021       West      Phoenix  72   \n",
       "2  1610612743          0      22020     5/26/2021       West       Denver  72   \n",
       "3  1610612746          0      22020     5/26/2021       West  LA Clippers  72   \n",
       "4  1610612742          0      22020     5/26/2021       West       Dallas  72   \n",
       "\n",
       "    W   L  W_PCT HOME_RECORD ROAD_RECORD  RETURNTOPLAY  \n",
       "0  52  20  0.722        31-5       21-15           NaN  \n",
       "1  51  21  0.708        27-9       24-12           NaN  \n",
       "2  47  25  0.653       25-11       22-14           NaN  \n",
       "3  47  25  0.653       26-10       21-15           NaN  \n",
       "4  42  30  0.583       21-15       21-15           NaN  "
      ]
     },
     "execution_count": 3,
     "metadata": {},
     "output_type": "execute_result"
    }
   ],
   "source": [
    "# Take a look at data\n",
    "ranking.head()"
   ]
  },
  {
   "cell_type": "code",
   "execution_count": 4,
   "id": "bde66a0c",
   "metadata": {},
   "outputs": [
    {
     "data": {
      "text/html": [
       "<div>\n",
       "<style scoped>\n",
       "    .dataframe tbody tr th:only-of-type {\n",
       "        vertical-align: middle;\n",
       "    }\n",
       "\n",
       "    .dataframe tbody tr th {\n",
       "        vertical-align: top;\n",
       "    }\n",
       "\n",
       "    .dataframe thead th {\n",
       "        text-align: right;\n",
       "    }\n",
       "</style>\n",
       "<table border=\"1\" class=\"dataframe\">\n",
       "  <thead>\n",
       "    <tr style=\"text-align: right;\">\n",
       "      <th></th>\n",
       "      <th>SEASON_ID</th>\n",
       "      <th>Year</th>\n",
       "    </tr>\n",
       "  </thead>\n",
       "  <tbody>\n",
       "    <tr>\n",
       "      <th>0</th>\n",
       "      <td>22003</td>\n",
       "      <td>2004</td>\n",
       "    </tr>\n",
       "    <tr>\n",
       "      <th>1</th>\n",
       "      <td>22004</td>\n",
       "      <td>2005</td>\n",
       "    </tr>\n",
       "    <tr>\n",
       "      <th>2</th>\n",
       "      <td>22005</td>\n",
       "      <td>2006</td>\n",
       "    </tr>\n",
       "    <tr>\n",
       "      <th>3</th>\n",
       "      <td>22006</td>\n",
       "      <td>2007</td>\n",
       "    </tr>\n",
       "    <tr>\n",
       "      <th>4</th>\n",
       "      <td>22007</td>\n",
       "      <td>2008</td>\n",
       "    </tr>\n",
       "  </tbody>\n",
       "</table>\n",
       "</div>"
      ],
      "text/plain": [
       "   SEASON_ID  Year\n",
       "0      22003  2004\n",
       "1      22004  2005\n",
       "2      22005  2006\n",
       "3      22006  2007\n",
       "4      22007  2008"
      ]
     },
     "execution_count": 4,
     "metadata": {},
     "output_type": "execute_result"
    }
   ],
   "source": [
    "# Take a look at data\n",
    "season_id_lookup.head()"
   ]
  },
  {
   "cell_type": "code",
   "execution_count": 5,
   "id": "e33f1b37",
   "metadata": {},
   "outputs": [
    {
     "data": {
      "text/html": [
       "<div>\n",
       "<style scoped>\n",
       "    .dataframe tbody tr th:only-of-type {\n",
       "        vertical-align: middle;\n",
       "    }\n",
       "\n",
       "    .dataframe tbody tr th {\n",
       "        vertical-align: top;\n",
       "    }\n",
       "\n",
       "    .dataframe thead th {\n",
       "        text-align: right;\n",
       "    }\n",
       "</style>\n",
       "<table border=\"1\" class=\"dataframe\">\n",
       "  <thead>\n",
       "    <tr style=\"text-align: right;\">\n",
       "      <th></th>\n",
       "      <th>Unnamed: 0</th>\n",
       "      <th>Year</th>\n",
       "      <th>Player</th>\n",
       "      <th>Pos</th>\n",
       "      <th>Age</th>\n",
       "      <th>Tm</th>\n",
       "      <th>G</th>\n",
       "      <th>GS</th>\n",
       "      <th>MP</th>\n",
       "      <th>PER</th>\n",
       "      <th>...</th>\n",
       "      <th>FT%</th>\n",
       "      <th>ORB</th>\n",
       "      <th>DRB</th>\n",
       "      <th>TRB</th>\n",
       "      <th>AST</th>\n",
       "      <th>STL</th>\n",
       "      <th>BLK</th>\n",
       "      <th>TOV</th>\n",
       "      <th>PF</th>\n",
       "      <th>PTS</th>\n",
       "    </tr>\n",
       "  </thead>\n",
       "  <tbody>\n",
       "    <tr>\n",
       "      <th>0</th>\n",
       "      <td>0</td>\n",
       "      <td>1950.0</td>\n",
       "      <td>Curly Armstrong</td>\n",
       "      <td>G-F</td>\n",
       "      <td>31.0</td>\n",
       "      <td>FTW</td>\n",
       "      <td>63.0</td>\n",
       "      <td>NaN</td>\n",
       "      <td>NaN</td>\n",
       "      <td>NaN</td>\n",
       "      <td>...</td>\n",
       "      <td>0.705</td>\n",
       "      <td>NaN</td>\n",
       "      <td>NaN</td>\n",
       "      <td>NaN</td>\n",
       "      <td>176.0</td>\n",
       "      <td>NaN</td>\n",
       "      <td>NaN</td>\n",
       "      <td>NaN</td>\n",
       "      <td>217.0</td>\n",
       "      <td>458.0</td>\n",
       "    </tr>\n",
       "    <tr>\n",
       "      <th>1</th>\n",
       "      <td>1</td>\n",
       "      <td>1950.0</td>\n",
       "      <td>Cliff Barker</td>\n",
       "      <td>SG</td>\n",
       "      <td>29.0</td>\n",
       "      <td>INO</td>\n",
       "      <td>49.0</td>\n",
       "      <td>NaN</td>\n",
       "      <td>NaN</td>\n",
       "      <td>NaN</td>\n",
       "      <td>...</td>\n",
       "      <td>0.708</td>\n",
       "      <td>NaN</td>\n",
       "      <td>NaN</td>\n",
       "      <td>NaN</td>\n",
       "      <td>109.0</td>\n",
       "      <td>NaN</td>\n",
       "      <td>NaN</td>\n",
       "      <td>NaN</td>\n",
       "      <td>99.0</td>\n",
       "      <td>279.0</td>\n",
       "    </tr>\n",
       "    <tr>\n",
       "      <th>2</th>\n",
       "      <td>2</td>\n",
       "      <td>1950.0</td>\n",
       "      <td>Leo Barnhorst</td>\n",
       "      <td>SF</td>\n",
       "      <td>25.0</td>\n",
       "      <td>CHS</td>\n",
       "      <td>67.0</td>\n",
       "      <td>NaN</td>\n",
       "      <td>NaN</td>\n",
       "      <td>NaN</td>\n",
       "      <td>...</td>\n",
       "      <td>0.698</td>\n",
       "      <td>NaN</td>\n",
       "      <td>NaN</td>\n",
       "      <td>NaN</td>\n",
       "      <td>140.0</td>\n",
       "      <td>NaN</td>\n",
       "      <td>NaN</td>\n",
       "      <td>NaN</td>\n",
       "      <td>192.0</td>\n",
       "      <td>438.0</td>\n",
       "    </tr>\n",
       "    <tr>\n",
       "      <th>3</th>\n",
       "      <td>3</td>\n",
       "      <td>1950.0</td>\n",
       "      <td>Ed Bartels</td>\n",
       "      <td>F</td>\n",
       "      <td>24.0</td>\n",
       "      <td>TOT</td>\n",
       "      <td>15.0</td>\n",
       "      <td>NaN</td>\n",
       "      <td>NaN</td>\n",
       "      <td>NaN</td>\n",
       "      <td>...</td>\n",
       "      <td>0.559</td>\n",
       "      <td>NaN</td>\n",
       "      <td>NaN</td>\n",
       "      <td>NaN</td>\n",
       "      <td>20.0</td>\n",
       "      <td>NaN</td>\n",
       "      <td>NaN</td>\n",
       "      <td>NaN</td>\n",
       "      <td>29.0</td>\n",
       "      <td>63.0</td>\n",
       "    </tr>\n",
       "    <tr>\n",
       "      <th>4</th>\n",
       "      <td>4</td>\n",
       "      <td>1950.0</td>\n",
       "      <td>Ed Bartels</td>\n",
       "      <td>F</td>\n",
       "      <td>24.0</td>\n",
       "      <td>DNN</td>\n",
       "      <td>13.0</td>\n",
       "      <td>NaN</td>\n",
       "      <td>NaN</td>\n",
       "      <td>NaN</td>\n",
       "      <td>...</td>\n",
       "      <td>0.548</td>\n",
       "      <td>NaN</td>\n",
       "      <td>NaN</td>\n",
       "      <td>NaN</td>\n",
       "      <td>20.0</td>\n",
       "      <td>NaN</td>\n",
       "      <td>NaN</td>\n",
       "      <td>NaN</td>\n",
       "      <td>27.0</td>\n",
       "      <td>59.0</td>\n",
       "    </tr>\n",
       "  </tbody>\n",
       "</table>\n",
       "<p>5 rows × 53 columns</p>\n",
       "</div>"
      ],
      "text/plain": [
       "   Unnamed: 0    Year           Player  Pos   Age   Tm     G  GS  MP  PER  \\\n",
       "0           0  1950.0  Curly Armstrong  G-F  31.0  FTW  63.0 NaN NaN  NaN   \n",
       "1           1  1950.0     Cliff Barker   SG  29.0  INO  49.0 NaN NaN  NaN   \n",
       "2           2  1950.0    Leo Barnhorst   SF  25.0  CHS  67.0 NaN NaN  NaN   \n",
       "3           3  1950.0       Ed Bartels    F  24.0  TOT  15.0 NaN NaN  NaN   \n",
       "4           4  1950.0       Ed Bartels    F  24.0  DNN  13.0 NaN NaN  NaN   \n",
       "\n",
       "   ...    FT%  ORB  DRB  TRB    AST  STL  BLK  TOV     PF    PTS  \n",
       "0  ...  0.705  NaN  NaN  NaN  176.0  NaN  NaN  NaN  217.0  458.0  \n",
       "1  ...  0.708  NaN  NaN  NaN  109.0  NaN  NaN  NaN   99.0  279.0  \n",
       "2  ...  0.698  NaN  NaN  NaN  140.0  NaN  NaN  NaN  192.0  438.0  \n",
       "3  ...  0.559  NaN  NaN  NaN   20.0  NaN  NaN  NaN   29.0   63.0  \n",
       "4  ...  0.548  NaN  NaN  NaN   20.0  NaN  NaN  NaN   27.0   59.0  \n",
       "\n",
       "[5 rows x 53 columns]"
      ]
     },
     "execution_count": 5,
     "metadata": {},
     "output_type": "execute_result"
    }
   ],
   "source": [
    "# Take a look at data\n",
    "seasons_stats.head()"
   ]
  },
  {
   "cell_type": "code",
   "execution_count": 6,
   "id": "e147f994",
   "metadata": {},
   "outputs": [
    {
     "data": {
      "text/html": [
       "<div>\n",
       "<style scoped>\n",
       "    .dataframe tbody tr th:only-of-type {\n",
       "        vertical-align: middle;\n",
       "    }\n",
       "\n",
       "    .dataframe tbody tr th {\n",
       "        vertical-align: top;\n",
       "    }\n",
       "\n",
       "    .dataframe thead th {\n",
       "        text-align: right;\n",
       "    }\n",
       "</style>\n",
       "<table border=\"1\" class=\"dataframe\">\n",
       "  <thead>\n",
       "    <tr style=\"text-align: right;\">\n",
       "      <th></th>\n",
       "      <th>Year</th>\n",
       "      <th>TEAM</th>\n",
       "      <th>Tm_Abrev</th>\n",
       "    </tr>\n",
       "  </thead>\n",
       "  <tbody>\n",
       "    <tr>\n",
       "      <th>0</th>\n",
       "      <td>2004</td>\n",
       "      <td>Golden State</td>\n",
       "      <td>GSW</td>\n",
       "    </tr>\n",
       "    <tr>\n",
       "      <th>1</th>\n",
       "      <td>2004</td>\n",
       "      <td>San Antonio</td>\n",
       "      <td>SAS</td>\n",
       "    </tr>\n",
       "    <tr>\n",
       "      <th>2</th>\n",
       "      <td>2004</td>\n",
       "      <td>Houston</td>\n",
       "      <td>HOU</td>\n",
       "    </tr>\n",
       "    <tr>\n",
       "      <th>3</th>\n",
       "      <td>2004</td>\n",
       "      <td>L.A. Clippers</td>\n",
       "      <td>LAC</td>\n",
       "    </tr>\n",
       "    <tr>\n",
       "      <th>4</th>\n",
       "      <td>2004</td>\n",
       "      <td>Utah</td>\n",
       "      <td>UTA</td>\n",
       "    </tr>\n",
       "  </tbody>\n",
       "</table>\n",
       "</div>"
      ],
      "text/plain": [
       "   Year            TEAM Tm_Abrev\n",
       "0  2004    Golden State      GSW\n",
       "1  2004     San Antonio      SAS\n",
       "2  2004         Houston      HOU\n",
       "3  2004   L.A. Clippers      LAC\n",
       "4  2004            Utah      UTA"
      ]
     },
     "execution_count": 6,
     "metadata": {},
     "output_type": "execute_result"
    }
   ],
   "source": [
    "# Take a look at data\n",
    "year_team_abrev_lookup.head()"
   ]
  },
  {
   "cell_type": "markdown",
   "id": "9257a72e",
   "metadata": {},
   "source": [
    "### Data Cleanup"
   ]
  },
  {
   "cell_type": "code",
   "execution_count": 7,
   "id": "5eec9822",
   "metadata": {},
   "outputs": [
    {
     "name": "stdout",
     "output_type": "stream",
     "text": [
      "<class 'pandas.core.frame.DataFrame'>\n",
      "RangeIndex: 193092 entries, 0 to 193091\n",
      "Data columns (total 13 columns):\n",
      " #   Column         Non-Null Count   Dtype  \n",
      "---  ------         --------------   -----  \n",
      " 0   TEAM_ID        193092 non-null  int64  \n",
      " 1   LEAGUE_ID      193092 non-null  int64  \n",
      " 2   SEASON_ID      193092 non-null  int64  \n",
      " 3   STANDINGSDATE  193092 non-null  object \n",
      " 4   CONFERENCE     193092 non-null  object \n",
      " 5   TEAM           193092 non-null  object \n",
      " 6   G              193092 non-null  int64  \n",
      " 7   W              193092 non-null  int64  \n",
      " 8   L              193092 non-null  int64  \n",
      " 9   W_PCT          193092 non-null  float64\n",
      " 10  HOME_RECORD    193092 non-null  object \n",
      " 11  ROAD_RECORD    193092 non-null  object \n",
      " 12  RETURNTOPLAY   3990 non-null    float64\n",
      "dtypes: float64(2), int64(6), object(5)\n",
      "memory usage: 19.2+ MB\n"
     ]
    }
   ],
   "source": [
    "# Check data size and type\n",
    "ranking.info()"
   ]
  },
  {
   "cell_type": "code",
   "execution_count": 8,
   "id": "9bba3fa3",
   "metadata": {},
   "outputs": [
    {
     "name": "stdout",
     "output_type": "stream",
     "text": [
      "<class 'pandas.core.frame.DataFrame'>\n",
      "RangeIndex: 24691 entries, 0 to 24690\n",
      "Data columns (total 53 columns):\n",
      " #   Column      Non-Null Count  Dtype  \n",
      "---  ------      --------------  -----  \n",
      " 0   Unnamed: 0  24691 non-null  int64  \n",
      " 1   Year        24624 non-null  float64\n",
      " 2   Player      24624 non-null  object \n",
      " 3   Pos         24624 non-null  object \n",
      " 4   Age         24616 non-null  float64\n",
      " 5   Tm          24624 non-null  object \n",
      " 6   G           24624 non-null  float64\n",
      " 7   GS          18233 non-null  float64\n",
      " 8   MP          24138 non-null  float64\n",
      " 9   PER         24101 non-null  float64\n",
      " 10  TS%         24538 non-null  float64\n",
      " 11  3PAr        18839 non-null  float64\n",
      " 12  FTr         24525 non-null  float64\n",
      " 13  ORB%        20792 non-null  float64\n",
      " 14  DRB%        20792 non-null  float64\n",
      " 15  TRB%        21571 non-null  float64\n",
      " 16  AST%        22555 non-null  float64\n",
      " 17  STL%        20792 non-null  float64\n",
      " 18  BLK%        20792 non-null  float64\n",
      " 19  TOV%        19582 non-null  float64\n",
      " 20  USG%        19640 non-null  float64\n",
      " 21  blanl       0 non-null      float64\n",
      " 22  OWS         24585 non-null  float64\n",
      " 23  DWS         24585 non-null  float64\n",
      " 24  WS          24585 non-null  float64\n",
      " 25  WS/48       24101 non-null  float64\n",
      " 26  blank2      0 non-null      float64\n",
      " 27  OBPM        20797 non-null  float64\n",
      " 28  DBPM        20797 non-null  float64\n",
      " 29  BPM         20797 non-null  float64\n",
      " 30  VORP        20797 non-null  float64\n",
      " 31  FG          24624 non-null  float64\n",
      " 32  FGA         24624 non-null  float64\n",
      " 33  FG%         24525 non-null  float64\n",
      " 34  3P          18927 non-null  float64\n",
      " 35  3PA         18927 non-null  float64\n",
      " 36  3P%         15416 non-null  float64\n",
      " 37  2P          24624 non-null  float64\n",
      " 38  2PA         24624 non-null  float64\n",
      " 39  2P%         24496 non-null  float64\n",
      " 40  eFG%        24525 non-null  float64\n",
      " 41  FT          24624 non-null  float64\n",
      " 42  FTA         24624 non-null  float64\n",
      " 43  FT%         23766 non-null  float64\n",
      " 44  ORB         20797 non-null  float64\n",
      " 45  DRB         20797 non-null  float64\n",
      " 46  TRB         24312 non-null  float64\n",
      " 47  AST         24624 non-null  float64\n",
      " 48  STL         20797 non-null  float64\n",
      " 49  BLK         20797 non-null  float64\n",
      " 50  TOV         19645 non-null  float64\n",
      " 51  PF          24624 non-null  float64\n",
      " 52  PTS         24624 non-null  float64\n",
      "dtypes: float64(49), int64(1), object(3)\n",
      "memory usage: 10.0+ MB\n"
     ]
    }
   ],
   "source": [
    "# Check data size and type\n",
    "seasons_stats.info()"
   ]
  },
  {
   "cell_type": "code",
   "execution_count": 9,
   "id": "92fbfc9d",
   "metadata": {},
   "outputs": [
    {
     "data": {
      "text/plain": [
       "Unnamed: 0        0\n",
       "Year             67\n",
       "Player           67\n",
       "Pos              67\n",
       "Age              75\n",
       "Tm               67\n",
       "G                67\n",
       "GS             6458\n",
       "MP              553\n",
       "PER             590\n",
       "TS%             153\n",
       "3PAr           5852\n",
       "FTr             166\n",
       "ORB%           3899\n",
       "DRB%           3899\n",
       "TRB%           3120\n",
       "AST%           2136\n",
       "STL%           3899\n",
       "BLK%           3899\n",
       "TOV%           5109\n",
       "USG%           5051\n",
       "blanl         24691\n",
       "OWS             106\n",
       "DWS             106\n",
       "WS              106\n",
       "WS/48           590\n",
       "blank2        24691\n",
       "OBPM           3894\n",
       "DBPM           3894\n",
       "BPM            3894\n",
       "VORP           3894\n",
       "FG               67\n",
       "FGA              67\n",
       "FG%             166\n",
       "3P             5764\n",
       "3PA            5764\n",
       "3P%            9275\n",
       "2P               67\n",
       "2PA              67\n",
       "2P%             195\n",
       "eFG%            166\n",
       "FT               67\n",
       "FTA              67\n",
       "FT%             925\n",
       "ORB            3894\n",
       "DRB            3894\n",
       "TRB             379\n",
       "AST              67\n",
       "STL            3894\n",
       "BLK            3894\n",
       "TOV            5046\n",
       "PF               67\n",
       "PTS              67\n",
       "dtype: int64"
      ]
     },
     "execution_count": 9,
     "metadata": {},
     "output_type": "execute_result"
    }
   ],
   "source": [
    "# Check for null values per column\n",
    "seasons_stats.isnull().sum()"
   ]
  },
  {
   "cell_type": "code",
   "execution_count": 10,
   "id": "f51faefb",
   "metadata": {},
   "outputs": [
    {
     "data": {
      "text/plain": [
       "Unnamed: 0        0\n",
       "Year             67\n",
       "Player           67\n",
       "Pos              67\n",
       "Age              75\n",
       "Tm               67\n",
       "G                67\n",
       "GS             6458\n",
       "MP              553\n",
       "PER             590\n",
       "TS%             153\n",
       "3PAr           5852\n",
       "FTr             166\n",
       "ORB%           3899\n",
       "DRB%           3899\n",
       "TRB%           3120\n",
       "AST%           2136\n",
       "STL%           3899\n",
       "BLK%           3899\n",
       "TOV%           5109\n",
       "USG%           5051\n",
       "blanl         24691\n",
       "OWS             106\n",
       "DWS             106\n",
       "WS              106\n",
       "WS/48           590\n",
       "blank2        24691\n",
       "OBPM           3894\n",
       "DBPM           3894\n",
       "BPM            3894\n",
       "VORP           3894\n",
       "FG               67\n",
       "FGA              67\n",
       "FG%             166\n",
       "3P             5764\n",
       "3PA            5764\n",
       "3P%            9275\n",
       "2P               67\n",
       "2PA              67\n",
       "2P%             195\n",
       "eFG%            166\n",
       "FT               67\n",
       "FTA              67\n",
       "FT%             925\n",
       "ORB            3894\n",
       "DRB            3894\n",
       "TRB             379\n",
       "AST              67\n",
       "STL            3894\n",
       "BLK            3894\n",
       "TOV            5046\n",
       "PF               67\n",
       "PTS              67\n",
       "dtype: int64"
      ]
     },
     "execution_count": 10,
     "metadata": {},
     "output_type": "execute_result"
    }
   ],
   "source": [
    "# Check for N/A values per column\n",
    "seasons_stats.isna().sum()"
   ]
  },
  {
   "cell_type": "markdown",
   "id": "3287e9c3",
   "metadata": {},
   "source": [
    "**Discussion:** Season Stats data has a lot of missing values becuase some of the atributes were collected in later years.\n",
    "However, we plan to use only some of data from this table, so we will decide on missing values during data explorations. \n"
   ]
  },
  {
   "cell_type": "markdown",
   "id": "2cd07901",
   "metadata": {},
   "source": [
    "### Data Exploration and Preparation"
   ]
  },
  {
   "cell_type": "code",
   "execution_count": 11,
   "id": "d6f43b5c",
   "metadata": {},
   "outputs": [
    {
     "name": "stdout",
     "output_type": "stream",
     "text": [
      "Seasons_stats min year is  1950.0\n",
      "Seasons_stats max year is  2017.0\n"
     ]
    }
   ],
   "source": [
    "# Find min and max year for seasons_stats\n",
    "min_year_stats = seasons_stats.Year.min()\n",
    "max_year_stats = seasons_stats.Year.max()\n",
    "print(\"Seasons_stats min year is \", min_year_stats)\n",
    "print(\"Seasons_stats max year is \", max_year_stats)"
   ]
  },
  {
   "cell_type": "code",
   "execution_count": 12,
   "id": "002fef30",
   "metadata": {},
   "outputs": [
    {
     "data": {
      "text/plain": [
       "dtype('<M8[ns]')"
      ]
     },
     "execution_count": 12,
     "metadata": {},
     "output_type": "execute_result"
    }
   ],
   "source": [
    "# Convert ranking STANDINGSDATE column from string to date\n",
    "ranking['STANDINGSDATE'] = pd.to_datetime(ranking['STANDINGSDATE'], dayfirst=True) \n",
    "ranking['STANDINGSDATE'].dtype"
   ]
  },
  {
   "cell_type": "code",
   "execution_count": 13,
   "id": "a1070520",
   "metadata": {},
   "outputs": [
    {
     "name": "stdout",
     "output_type": "stream",
     "text": [
      "ranking min date is  2003-10-01 00:00:00\n",
      "ranking max date is  2021-05-26 00:00:00\n"
     ]
    }
   ],
   "source": [
    "# Find min and max date for ranking\n",
    "min_year_ranking = ranking['STANDINGSDATE'].min()\n",
    "max_year_ranking = ranking['STANDINGSDATE'].max()\n",
    "print(\"ranking min date is \", min_year_ranking)\n",
    "print(\"ranking max date is \", max_year_ranking)"
   ]
  },
  {
   "cell_type": "markdown",
   "id": "c1acc57e",
   "metadata": {},
   "source": [
    "**Note:** For both dfs we will use data between 2004 and 2017 inclued.  "
   ]
  },
  {
   "cell_type": "code",
   "execution_count": 14,
   "id": "0f098eef",
   "metadata": {},
   "outputs": [
    {
     "data": {
      "text/html": [
       "<div>\n",
       "<style scoped>\n",
       "    .dataframe tbody tr th:only-of-type {\n",
       "        vertical-align: middle;\n",
       "    }\n",
       "\n",
       "    .dataframe tbody tr th {\n",
       "        vertical-align: top;\n",
       "    }\n",
       "\n",
       "    .dataframe thead th {\n",
       "        text-align: right;\n",
       "    }\n",
       "</style>\n",
       "<table border=\"1\" class=\"dataframe\">\n",
       "  <thead>\n",
       "    <tr style=\"text-align: right;\">\n",
       "      <th></th>\n",
       "      <th>Unnamed: 0</th>\n",
       "      <th>Year</th>\n",
       "      <th>Player</th>\n",
       "      <th>Pos</th>\n",
       "      <th>Age</th>\n",
       "      <th>Tm</th>\n",
       "      <th>G</th>\n",
       "      <th>GS</th>\n",
       "      <th>MP</th>\n",
       "      <th>PER</th>\n",
       "      <th>...</th>\n",
       "      <th>FT%</th>\n",
       "      <th>ORB</th>\n",
       "      <th>DRB</th>\n",
       "      <th>TRB</th>\n",
       "      <th>AST</th>\n",
       "      <th>STL</th>\n",
       "      <th>BLK</th>\n",
       "      <th>TOV</th>\n",
       "      <th>PF</th>\n",
       "      <th>PTS</th>\n",
       "    </tr>\n",
       "  </thead>\n",
       "  <tbody>\n",
       "    <tr>\n",
       "      <th>16490</th>\n",
       "      <td>16490</td>\n",
       "      <td>2004.0</td>\n",
       "      <td>Shareef Abdur-Rahim</td>\n",
       "      <td>PF</td>\n",
       "      <td>27.0</td>\n",
       "      <td>TOT</td>\n",
       "      <td>85.0</td>\n",
       "      <td>56.0</td>\n",
       "      <td>2684.0</td>\n",
       "      <td>19.9</td>\n",
       "      <td>...</td>\n",
       "      <td>0.869</td>\n",
       "      <td>189.0</td>\n",
       "      <td>450.0</td>\n",
       "      <td>639.0</td>\n",
       "      <td>174.0</td>\n",
       "      <td>68.0</td>\n",
       "      <td>37.0</td>\n",
       "      <td>184.0</td>\n",
       "      <td>222.0</td>\n",
       "      <td>1384.0</td>\n",
       "    </tr>\n",
       "    <tr>\n",
       "      <th>16491</th>\n",
       "      <td>16491</td>\n",
       "      <td>2004.0</td>\n",
       "      <td>Shareef Abdur-Rahim</td>\n",
       "      <td>PF</td>\n",
       "      <td>27.0</td>\n",
       "      <td>ATL</td>\n",
       "      <td>53.0</td>\n",
       "      <td>53.0</td>\n",
       "      <td>1956.0</td>\n",
       "      <td>21.2</td>\n",
       "      <td>...</td>\n",
       "      <td>0.880</td>\n",
       "      <td>141.0</td>\n",
       "      <td>354.0</td>\n",
       "      <td>495.0</td>\n",
       "      <td>127.0</td>\n",
       "      <td>44.0</td>\n",
       "      <td>19.0</td>\n",
       "      <td>131.0</td>\n",
       "      <td>147.0</td>\n",
       "      <td>1065.0</td>\n",
       "    </tr>\n",
       "    <tr>\n",
       "      <th>16492</th>\n",
       "      <td>16492</td>\n",
       "      <td>2004.0</td>\n",
       "      <td>Shareef Abdur-Rahim</td>\n",
       "      <td>PF</td>\n",
       "      <td>27.0</td>\n",
       "      <td>POR</td>\n",
       "      <td>32.0</td>\n",
       "      <td>3.0</td>\n",
       "      <td>728.0</td>\n",
       "      <td>16.5</td>\n",
       "      <td>...</td>\n",
       "      <td>0.832</td>\n",
       "      <td>48.0</td>\n",
       "      <td>96.0</td>\n",
       "      <td>144.0</td>\n",
       "      <td>47.0</td>\n",
       "      <td>24.0</td>\n",
       "      <td>18.0</td>\n",
       "      <td>53.0</td>\n",
       "      <td>75.0</td>\n",
       "      <td>319.0</td>\n",
       "    </tr>\n",
       "    <tr>\n",
       "      <th>16493</th>\n",
       "      <td>16493</td>\n",
       "      <td>2004.0</td>\n",
       "      <td>Malik Allen</td>\n",
       "      <td>PF</td>\n",
       "      <td>25.0</td>\n",
       "      <td>MIA</td>\n",
       "      <td>45.0</td>\n",
       "      <td>6.0</td>\n",
       "      <td>616.0</td>\n",
       "      <td>10.5</td>\n",
       "      <td>...</td>\n",
       "      <td>0.758</td>\n",
       "      <td>42.0</td>\n",
       "      <td>77.0</td>\n",
       "      <td>119.0</td>\n",
       "      <td>16.0</td>\n",
       "      <td>12.0</td>\n",
       "      <td>28.0</td>\n",
       "      <td>27.0</td>\n",
       "      <td>81.0</td>\n",
       "      <td>191.0</td>\n",
       "    </tr>\n",
       "    <tr>\n",
       "      <th>16494</th>\n",
       "      <td>16494</td>\n",
       "      <td>2004.0</td>\n",
       "      <td>Ray Allen</td>\n",
       "      <td>SG</td>\n",
       "      <td>28.0</td>\n",
       "      <td>SEA</td>\n",
       "      <td>56.0</td>\n",
       "      <td>56.0</td>\n",
       "      <td>2152.0</td>\n",
       "      <td>21.7</td>\n",
       "      <td>...</td>\n",
       "      <td>0.904</td>\n",
       "      <td>69.0</td>\n",
       "      <td>217.0</td>\n",
       "      <td>286.0</td>\n",
       "      <td>268.0</td>\n",
       "      <td>71.0</td>\n",
       "      <td>11.0</td>\n",
       "      <td>156.0</td>\n",
       "      <td>132.0</td>\n",
       "      <td>1287.0</td>\n",
       "    </tr>\n",
       "  </tbody>\n",
       "</table>\n",
       "<p>5 rows × 53 columns</p>\n",
       "</div>"
      ],
      "text/plain": [
       "       Unnamed: 0    Year               Player Pos   Age   Tm     G    GS  \\\n",
       "16490       16490  2004.0  Shareef Abdur-Rahim  PF  27.0  TOT  85.0  56.0   \n",
       "16491       16491  2004.0  Shareef Abdur-Rahim  PF  27.0  ATL  53.0  53.0   \n",
       "16492       16492  2004.0  Shareef Abdur-Rahim  PF  27.0  POR  32.0   3.0   \n",
       "16493       16493  2004.0          Malik Allen  PF  25.0  MIA  45.0   6.0   \n",
       "16494       16494  2004.0            Ray Allen  SG  28.0  SEA  56.0  56.0   \n",
       "\n",
       "           MP   PER  ...    FT%    ORB    DRB    TRB    AST   STL   BLK  \\\n",
       "16490  2684.0  19.9  ...  0.869  189.0  450.0  639.0  174.0  68.0  37.0   \n",
       "16491  1956.0  21.2  ...  0.880  141.0  354.0  495.0  127.0  44.0  19.0   \n",
       "16492   728.0  16.5  ...  0.832   48.0   96.0  144.0   47.0  24.0  18.0   \n",
       "16493   616.0  10.5  ...  0.758   42.0   77.0  119.0   16.0  12.0  28.0   \n",
       "16494  2152.0  21.7  ...  0.904   69.0  217.0  286.0  268.0  71.0  11.0   \n",
       "\n",
       "         TOV     PF     PTS  \n",
       "16490  184.0  222.0  1384.0  \n",
       "16491  131.0  147.0  1065.0  \n",
       "16492   53.0   75.0   319.0  \n",
       "16493   27.0   81.0   191.0  \n",
       "16494  156.0  132.0  1287.0  \n",
       "\n",
       "[5 rows x 53 columns]"
      ]
     },
     "execution_count": 14,
     "metadata": {},
     "output_type": "execute_result"
    }
   ],
   "source": [
    "# Create stats df for year > 2004\n",
    "seasons_stats_greater_2004 = seasons_stats.loc[(seasons_stats['Year'] >= 2004)]\n",
    "seasons_stats_greater_2004.head()"
   ]
  },
  {
   "cell_type": "code",
   "execution_count": 15,
   "id": "5436bd66",
   "metadata": {},
   "outputs": [
    {
     "data": {
      "text/plain": [
       "Unnamed: 0       0\n",
       "Year             0\n",
       "Player           0\n",
       "Pos              0\n",
       "Age              0\n",
       "Tm               0\n",
       "G                0\n",
       "GS               0\n",
       "MP               0\n",
       "PER              5\n",
       "TS%             40\n",
       "3PAr            42\n",
       "FTr             42\n",
       "ORB%             5\n",
       "DRB%             5\n",
       "TRB%             5\n",
       "AST%             5\n",
       "STL%             5\n",
       "BLK%             5\n",
       "TOV%            32\n",
       "USG%             5\n",
       "blanl         8188\n",
       "OWS              0\n",
       "DWS              0\n",
       "WS               0\n",
       "WS/48            5\n",
       "blank2        8188\n",
       "OBPM             0\n",
       "DBPM             0\n",
       "BPM              0\n",
       "VORP             0\n",
       "FG               0\n",
       "FGA              0\n",
       "FG%             42\n",
       "3P               0\n",
       "3PA              0\n",
       "3P%           1355\n",
       "2P               0\n",
       "2PA              0\n",
       "2P%             62\n",
       "eFG%            42\n",
       "FT               0\n",
       "FTA              0\n",
       "FT%            355\n",
       "ORB              0\n",
       "DRB              0\n",
       "TRB              0\n",
       "AST              0\n",
       "STL              0\n",
       "BLK              0\n",
       "TOV              0\n",
       "PF               0\n",
       "PTS              0\n",
       "dtype: int64"
      ]
     },
     "execution_count": 15,
     "metadata": {},
     "output_type": "execute_result"
    }
   ],
   "source": [
    "# Check for N/A values per column\n",
    "seasons_stats_greater_2004.isna().sum()"
   ]
  },
  {
   "cell_type": "markdown",
   "id": "df5bb6e3",
   "metadata": {},
   "source": [
    "### Create ranking summary table"
   ]
  },
  {
   "cell_type": "code",
   "execution_count": 16,
   "id": "2fffcaca",
   "metadata": {},
   "outputs": [
    {
     "name": "stdout",
     "output_type": "stream",
     "text": [
      "ranking_summary min date is  2004-01-01 00:00:00\n",
      "ranking_summary max date is  2017-12-31 00:00:00\n"
     ]
    }
   ],
   "source": [
    "# Filter ranking data between two dates\n",
    "ranking_summary = ranking.loc[(ranking['STANDINGSDATE'] >= '2004-01-01') & (ranking['STANDINGSDATE'] < '2018-01-01')]\n",
    "# Check\n",
    "print(\"ranking_summary min date is \", ranking_summary['STANDINGSDATE'].min())\n",
    "print(\"ranking_summary max date is \", ranking_summary['STANDINGSDATE'].max())"
   ]
  },
  {
   "cell_type": "code",
   "execution_count": 17,
   "id": "b0449302",
   "metadata": {},
   "outputs": [
    {
     "name": "stdout",
     "output_type": "stream",
     "text": [
      "(153135, 6)\n"
     ]
    },
    {
     "data": {
      "text/html": [
       "<div>\n",
       "<style scoped>\n",
       "    .dataframe tbody tr th:only-of-type {\n",
       "        vertical-align: middle;\n",
       "    }\n",
       "\n",
       "    .dataframe tbody tr th {\n",
       "        vertical-align: top;\n",
       "    }\n",
       "\n",
       "    .dataframe thead th {\n",
       "        text-align: right;\n",
       "    }\n",
       "</style>\n",
       "<table border=\"1\" class=\"dataframe\">\n",
       "  <thead>\n",
       "    <tr style=\"text-align: right;\">\n",
       "      <th></th>\n",
       "      <th>SEASON_ID</th>\n",
       "      <th>STANDINGSDATE</th>\n",
       "      <th>TEAM</th>\n",
       "      <th>G</th>\n",
       "      <th>W</th>\n",
       "      <th>L</th>\n",
       "    </tr>\n",
       "  </thead>\n",
       "  <tbody>\n",
       "    <tr>\n",
       "      <th>16259</th>\n",
       "      <td>22013</td>\n",
       "      <td>2014-08-31</td>\n",
       "      <td>San Antonio</td>\n",
       "      <td>82</td>\n",
       "      <td>62</td>\n",
       "      <td>20</td>\n",
       "    </tr>\n",
       "    <tr>\n",
       "      <th>16260</th>\n",
       "      <td>22013</td>\n",
       "      <td>2014-08-31</td>\n",
       "      <td>Oklahoma City</td>\n",
       "      <td>82</td>\n",
       "      <td>59</td>\n",
       "      <td>23</td>\n",
       "    </tr>\n",
       "    <tr>\n",
       "      <th>16261</th>\n",
       "      <td>22013</td>\n",
       "      <td>2014-08-31</td>\n",
       "      <td>L.A. Clippers</td>\n",
       "      <td>82</td>\n",
       "      <td>57</td>\n",
       "      <td>25</td>\n",
       "    </tr>\n",
       "    <tr>\n",
       "      <th>16262</th>\n",
       "      <td>22013</td>\n",
       "      <td>2014-08-31</td>\n",
       "      <td>Houston</td>\n",
       "      <td>82</td>\n",
       "      <td>54</td>\n",
       "      <td>28</td>\n",
       "    </tr>\n",
       "    <tr>\n",
       "      <th>16263</th>\n",
       "      <td>22013</td>\n",
       "      <td>2014-08-31</td>\n",
       "      <td>Portland</td>\n",
       "      <td>82</td>\n",
       "      <td>54</td>\n",
       "      <td>28</td>\n",
       "    </tr>\n",
       "  </tbody>\n",
       "</table>\n",
       "</div>"
      ],
      "text/plain": [
       "       SEASON_ID STANDINGSDATE           TEAM   G   W   L\n",
       "16259      22013    2014-08-31    San Antonio  82  62  20\n",
       "16260      22013    2014-08-31  Oklahoma City  82  59  23\n",
       "16261      22013    2014-08-31  L.A. Clippers  82  57  25\n",
       "16262      22013    2014-08-31        Houston  82  54  28\n",
       "16263      22013    2014-08-31       Portland  82  54  28"
      ]
     },
     "execution_count": 17,
     "metadata": {},
     "output_type": "execute_result"
    }
   ],
   "source": [
    "# Slelect ranking columns\n",
    "ranking_summary = ranking_summary[[\"SEASON_ID\", \"STANDINGSDATE\", \"TEAM\",\"G\", \"W\",\"L\"]]\n",
    "print(ranking_summary.shape)\n",
    "ranking_summary.head()"
   ]
  },
  {
   "cell_type": "code",
   "execution_count": 18,
   "id": "1f4e34d3",
   "metadata": {},
   "outputs": [
    {
     "name": "stdout",
     "output_type": "stream",
     "text": [
      "(869, 1)\n"
     ]
    },
    {
     "data": {
      "text/html": [
       "<div>\n",
       "<style scoped>\n",
       "    .dataframe tbody tr th:only-of-type {\n",
       "        vertical-align: middle;\n",
       "    }\n",
       "\n",
       "    .dataframe tbody tr th {\n",
       "        vertical-align: top;\n",
       "    }\n",
       "\n",
       "    .dataframe thead th {\n",
       "        text-align: right;\n",
       "    }\n",
       "</style>\n",
       "<table border=\"1\" class=\"dataframe\">\n",
       "  <thead>\n",
       "    <tr style=\"text-align: right;\">\n",
       "      <th></th>\n",
       "      <th></th>\n",
       "      <th>Max_Date</th>\n",
       "    </tr>\n",
       "    <tr>\n",
       "      <th>SEASON_ID</th>\n",
       "      <th>TEAM</th>\n",
       "      <th></th>\n",
       "    </tr>\n",
       "  </thead>\n",
       "  <tbody>\n",
       "    <tr>\n",
       "      <th rowspan=\"5\" valign=\"top\">12004</th>\n",
       "      <th>Atlanta</th>\n",
       "      <td>2004-11-01</td>\n",
       "    </tr>\n",
       "    <tr>\n",
       "      <th>Boston</th>\n",
       "      <td>2004-11-01</td>\n",
       "    </tr>\n",
       "    <tr>\n",
       "      <th>Charlotte</th>\n",
       "      <td>2004-11-01</td>\n",
       "    </tr>\n",
       "    <tr>\n",
       "      <th>Chicago</th>\n",
       "      <td>2004-11-01</td>\n",
       "    </tr>\n",
       "    <tr>\n",
       "      <th>Cleveland</th>\n",
       "      <td>2004-11-01</td>\n",
       "    </tr>\n",
       "  </tbody>\n",
       "</table>\n",
       "</div>"
      ],
      "text/plain": [
       "                      Max_Date\n",
       "SEASON_ID TEAM                \n",
       "12004     Atlanta   2004-11-01\n",
       "          Boston    2004-11-01\n",
       "          Charlotte 2004-11-01\n",
       "          Chicago   2004-11-01\n",
       "          Cleveland 2004-11-01"
      ]
     },
     "execution_count": 18,
     "metadata": {},
     "output_type": "execute_result"
    }
   ],
   "source": [
    "#Create team performance per game per season table\n",
    "ranking_summary_max_date = ranking_summary.groupby(['SEASON_ID','TEAM']).agg(Max_Date=('STANDINGSDATE', np.max)) \n",
    "print(ranking_summary_max_date.shape)\n",
    "ranking_summary_max_date.head()\n"
   ]
  },
  {
   "cell_type": "code",
   "execution_count": 19,
   "id": "ca7c758a",
   "metadata": {},
   "outputs": [
    {
     "name": "stdout",
     "output_type": "stream",
     "text": [
      "(153135, 7)\n"
     ]
    },
    {
     "data": {
      "text/html": [
       "<div>\n",
       "<style scoped>\n",
       "    .dataframe tbody tr th:only-of-type {\n",
       "        vertical-align: middle;\n",
       "    }\n",
       "\n",
       "    .dataframe tbody tr th {\n",
       "        vertical-align: top;\n",
       "    }\n",
       "\n",
       "    .dataframe thead th {\n",
       "        text-align: right;\n",
       "    }\n",
       "</style>\n",
       "<table border=\"1\" class=\"dataframe\">\n",
       "  <thead>\n",
       "    <tr style=\"text-align: right;\">\n",
       "      <th></th>\n",
       "      <th>SEASON_ID</th>\n",
       "      <th>STANDINGSDATE</th>\n",
       "      <th>TEAM</th>\n",
       "      <th>G</th>\n",
       "      <th>W</th>\n",
       "      <th>L</th>\n",
       "      <th>MAX_DATE</th>\n",
       "    </tr>\n",
       "  </thead>\n",
       "  <tbody>\n",
       "    <tr>\n",
       "      <th>16259</th>\n",
       "      <td>22013</td>\n",
       "      <td>2014-08-31</td>\n",
       "      <td>San Antonio</td>\n",
       "      <td>82</td>\n",
       "      <td>62</td>\n",
       "      <td>20</td>\n",
       "      <td>2014-10-03</td>\n",
       "    </tr>\n",
       "    <tr>\n",
       "      <th>16260</th>\n",
       "      <td>22013</td>\n",
       "      <td>2014-08-31</td>\n",
       "      <td>Oklahoma City</td>\n",
       "      <td>82</td>\n",
       "      <td>59</td>\n",
       "      <td>23</td>\n",
       "      <td>2014-10-03</td>\n",
       "    </tr>\n",
       "    <tr>\n",
       "      <th>16261</th>\n",
       "      <td>22013</td>\n",
       "      <td>2014-08-31</td>\n",
       "      <td>L.A. Clippers</td>\n",
       "      <td>82</td>\n",
       "      <td>57</td>\n",
       "      <td>25</td>\n",
       "      <td>2014-10-03</td>\n",
       "    </tr>\n",
       "    <tr>\n",
       "      <th>16262</th>\n",
       "      <td>22013</td>\n",
       "      <td>2014-08-31</td>\n",
       "      <td>Houston</td>\n",
       "      <td>82</td>\n",
       "      <td>54</td>\n",
       "      <td>28</td>\n",
       "      <td>2014-10-03</td>\n",
       "    </tr>\n",
       "    <tr>\n",
       "      <th>16263</th>\n",
       "      <td>22013</td>\n",
       "      <td>2014-08-31</td>\n",
       "      <td>Portland</td>\n",
       "      <td>82</td>\n",
       "      <td>54</td>\n",
       "      <td>28</td>\n",
       "      <td>2014-10-03</td>\n",
       "    </tr>\n",
       "  </tbody>\n",
       "</table>\n",
       "</div>"
      ],
      "text/plain": [
       "       SEASON_ID STANDINGSDATE           TEAM   G   W   L   MAX_DATE\n",
       "16259      22013    2014-08-31    San Antonio  82  62  20 2014-10-03\n",
       "16260      22013    2014-08-31  Oklahoma City  82  59  23 2014-10-03\n",
       "16261      22013    2014-08-31  L.A. Clippers  82  57  25 2014-10-03\n",
       "16262      22013    2014-08-31        Houston  82  54  28 2014-10-03\n",
       "16263      22013    2014-08-31       Portland  82  54  28 2014-10-03"
      ]
     },
     "execution_count": 19,
     "metadata": {},
     "output_type": "execute_result"
    }
   ],
   "source": [
    "# Create MAX_DATE column\n",
    "ranking_summary['MAX_DATE'] = ranking_summary.groupby(['SEASON_ID','TEAM'])['STANDINGSDATE'].transform(lambda x: x.max())\n",
    "print(ranking_summary.shape)\n",
    "ranking_summary.head()"
   ]
  },
  {
   "cell_type": "code",
   "execution_count": 20,
   "id": "8e5009c1",
   "metadata": {},
   "outputs": [
    {
     "name": "stdout",
     "output_type": "stream",
     "text": [
      "(869, 5)\n"
     ]
    },
    {
     "data": {
      "text/html": [
       "<div>\n",
       "<style scoped>\n",
       "    .dataframe tbody tr th:only-of-type {\n",
       "        vertical-align: middle;\n",
       "    }\n",
       "\n",
       "    .dataframe tbody tr th {\n",
       "        vertical-align: top;\n",
       "    }\n",
       "\n",
       "    .dataframe thead th {\n",
       "        text-align: right;\n",
       "    }\n",
       "</style>\n",
       "<table border=\"1\" class=\"dataframe\">\n",
       "  <thead>\n",
       "    <tr style=\"text-align: right;\">\n",
       "      <th></th>\n",
       "      <th>SEASON_ID</th>\n",
       "      <th>TEAM</th>\n",
       "      <th>G</th>\n",
       "      <th>W</th>\n",
       "      <th>L</th>\n",
       "    </tr>\n",
       "  </thead>\n",
       "  <tbody>\n",
       "    <tr>\n",
       "      <th>0</th>\n",
       "      <td>12004</td>\n",
       "      <td>Atlanta</td>\n",
       "      <td>0</td>\n",
       "      <td>0</td>\n",
       "      <td>0</td>\n",
       "    </tr>\n",
       "    <tr>\n",
       "      <th>1</th>\n",
       "      <td>12004</td>\n",
       "      <td>Boston</td>\n",
       "      <td>0</td>\n",
       "      <td>0</td>\n",
       "      <td>0</td>\n",
       "    </tr>\n",
       "    <tr>\n",
       "      <th>2</th>\n",
       "      <td>12004</td>\n",
       "      <td>Charlotte</td>\n",
       "      <td>0</td>\n",
       "      <td>0</td>\n",
       "      <td>0</td>\n",
       "    </tr>\n",
       "    <tr>\n",
       "      <th>3</th>\n",
       "      <td>12004</td>\n",
       "      <td>Chicago</td>\n",
       "      <td>0</td>\n",
       "      <td>0</td>\n",
       "      <td>0</td>\n",
       "    </tr>\n",
       "    <tr>\n",
       "      <th>4</th>\n",
       "      <td>12004</td>\n",
       "      <td>Cleveland</td>\n",
       "      <td>0</td>\n",
       "      <td>0</td>\n",
       "      <td>0</td>\n",
       "    </tr>\n",
       "  </tbody>\n",
       "</table>\n",
       "</div>"
      ],
      "text/plain": [
       "   SEASON_ID       TEAM  G  W  L\n",
       "0      12004    Atlanta  0  0  0\n",
       "1      12004     Boston  0  0  0\n",
       "2      12004  Charlotte  0  0  0\n",
       "3      12004    Chicago  0  0  0\n",
       "4      12004  Cleveland  0  0  0"
      ]
     },
     "execution_count": 20,
     "metadata": {},
     "output_type": "execute_result"
    }
   ],
   "source": [
    "# Crete ranking summary per team table\n",
    "ranking_summary_per_team = ranking_summary.loc[(ranking_summary['STANDINGSDATE'] == ranking_summary['MAX_DATE'])]\n",
    "ranking_summary_per_team = ranking_summary_per_team.drop(columns =['STANDINGSDATE', 'MAX_DATE'])\n",
    "ranking_summary_per_team = ranking_summary_per_team.sort_values(by=['SEASON_ID','TEAM']).reset_index(drop=True)\n",
    "print(ranking_summary_per_team.shape)\n",
    "ranking_summary_per_team.head()"
   ]
  },
  {
   "cell_type": "code",
   "execution_count": 21,
   "id": "031eb423",
   "metadata": {},
   "outputs": [
    {
     "name": "stdout",
     "output_type": "stream",
     "text": [
      "<class 'pandas.core.frame.DataFrame'>\n",
      "RangeIndex: 869 entries, 0 to 868\n",
      "Data columns (total 5 columns):\n",
      " #   Column     Non-Null Count  Dtype \n",
      "---  ------     --------------  ----- \n",
      " 0   SEASON_ID  869 non-null    int64 \n",
      " 1   TEAM       869 non-null    object\n",
      " 2   G          869 non-null    int64 \n",
      " 3   W          869 non-null    int64 \n",
      " 4   L          869 non-null    int64 \n",
      "dtypes: int64(4), object(1)\n",
      "memory usage: 34.1+ KB\n"
     ]
    }
   ],
   "source": [
    "# Check\n",
    "ranking_summary_per_team.info()"
   ]
  },
  {
   "cell_type": "code",
   "execution_count": 22,
   "id": "e3301aa9",
   "metadata": {},
   "outputs": [
    {
     "data": {
      "text/plain": [
       "SEASON_ID  G \n",
       "12004      0     30\n",
       "12005      8     19\n",
       "           7     10\n",
       "           6      1\n",
       "12006      8     23\n",
       "           7      6\n",
       "           6      1\n",
       "12007      7     16\n",
       "           6      9\n",
       "           8      3\n",
       "           5      2\n",
       "12008      8     15\n",
       "           7     13\n",
       "           6      2\n",
       "12009      8     21\n",
       "           7      9\n",
       "12010      8     20\n",
       "           7     10\n",
       "12011      2     30\n",
       "12012      8     14\n",
       "           7     14\n",
       "           6      2\n",
       "12013      7     15\n",
       "           8     14\n",
       "           6      1\n",
       "12014      8     16\n",
       "           7     13\n",
       "           6      1\n",
       "12015      7     15\n",
       "           6      8\n",
       "           8      7\n",
       "12016      6     14\n",
       "           7     13\n",
       "           8      3\n",
       "12017      5     15\n",
       "           6      7\n",
       "           4      7\n",
       "           3      1\n",
       "22003      82    29\n",
       "22004      82    30\n",
       "22005      82    30\n",
       "22006      82    30\n",
       "22007      82    30\n",
       "22008      82    30\n",
       "22009      82    30\n",
       "22010      82    30\n",
       "22011      66    30\n",
       "22012      82    28\n",
       "           81     2\n",
       "22013      82    30\n",
       "22014      82    30\n",
       "22015      82    30\n",
       "22016      82    30\n",
       "22017      36    11\n",
       "           37     9\n",
       "           35     5\n",
       "           34     2\n",
       "           38     2\n",
       "           40     1\n",
       "Name: count, dtype: int64"
      ]
     },
     "execution_count": 22,
     "metadata": {},
     "output_type": "execute_result"
    }
   ],
   "source": [
    "# Count games\n",
    "ranking_summary_per_team.groupby(\"SEASON_ID\")[\"G\"].value_counts()"
   ]
  },
  {
   "cell_type": "markdown",
   "id": "e6e96bd4",
   "metadata": {},
   "source": [
    "**Note:** ranking_summary_per_team df has some extra values that has to be droped. "
   ]
  },
  {
   "cell_type": "code",
   "execution_count": 23,
   "id": "3eddd692",
   "metadata": {},
   "outputs": [
    {
     "name": "stdout",
     "output_type": "stream",
     "text": [
      "<class 'pandas.core.frame.DataFrame'>\n",
      "Index: 419 entries, 420 to 838\n",
      "Data columns (total 5 columns):\n",
      " #   Column     Non-Null Count  Dtype \n",
      "---  ------     --------------  ----- \n",
      " 0   SEASON_ID  419 non-null    int64 \n",
      " 1   TEAM       419 non-null    object\n",
      " 2   G          419 non-null    int64 \n",
      " 3   W          419 non-null    int64 \n",
      " 4   L          419 non-null    int64 \n",
      "dtypes: int64(4), object(1)\n",
      "memory usage: 19.6+ KB\n"
     ]
    }
   ],
   "source": [
    "# Select seasons \n",
    "ranking_summary_per_team = ranking_summary_per_team.loc[(ranking_summary_per_team['SEASON_ID'] >= 22003) &\n",
    "                                                        (ranking_summary_per_team['SEASON_ID'] <= 22016)]\n",
    "ranking_summary_per_team.info()"
   ]
  },
  {
   "cell_type": "code",
   "execution_count": 24,
   "id": "2612206f",
   "metadata": {},
   "outputs": [
    {
     "data": {
      "text/plain": [
       "SEASON_ID\n",
       "22003    29\n",
       "22004    30\n",
       "22005    30\n",
       "22006    30\n",
       "22007    30\n",
       "22008    30\n",
       "22009    30\n",
       "22010    30\n",
       "22011    30\n",
       "22012    30\n",
       "22013    30\n",
       "22014    30\n",
       "22015    30\n",
       "22016    30\n",
       "Name: TEAM, dtype: int64"
      ]
     },
     "execution_count": 24,
     "metadata": {},
     "output_type": "execute_result"
    }
   ],
   "source": [
    "# Count teams\n",
    "ranking_summary_per_team.groupby(\"SEASON_ID\")[\"TEAM\"].count()"
   ]
  },
  {
   "cell_type": "markdown",
   "id": "2c30d1a4",
   "metadata": {},
   "source": [
    "**Note:** As expected in 2004 sesean played 29 teams, the rest of the seasons played 30 teams. So far so good. "
   ]
  },
  {
   "cell_type": "code",
   "execution_count": 25,
   "id": "413a65b1",
   "metadata": {},
   "outputs": [
    {
     "data": {
      "text/plain": [
       "SEASON_ID  G \n",
       "22003      82    29\n",
       "22004      82    30\n",
       "22005      82    30\n",
       "22006      82    30\n",
       "22007      82    30\n",
       "22008      82    30\n",
       "22009      82    30\n",
       "22010      82    30\n",
       "22011      66    30\n",
       "22012      82    28\n",
       "           81     2\n",
       "22013      82    30\n",
       "22014      82    30\n",
       "22015      82    30\n",
       "22016      82    30\n",
       "Name: count, dtype: int64"
      ]
     },
     "execution_count": 25,
     "metadata": {},
     "output_type": "execute_result"
    }
   ],
   "source": [
    "# Count games\n",
    "ranking_summary_per_team.groupby(\"SEASON_ID\")[\"G\"].value_counts()"
   ]
  },
  {
   "cell_type": "markdown",
   "id": "487ce97e",
   "metadata": {},
   "source": [
    "**Note:** As expected, each team played 82 games per season. However, season 22011 has only 66 games per team, \n",
    "    after joining ranking and seasons_stats table this season will be droped. During 22012 season 2/30 teams played 81 games.\n",
    "    We decided to keep this season. "
   ]
  },
  {
   "cell_type": "code",
   "execution_count": 26,
   "id": "ce280a82",
   "metadata": {},
   "outputs": [
    {
     "name": "stdout",
     "output_type": "stream",
     "text": [
      "ranking_summary_per_team min date is  2004\n",
      "ranking_summary_per_team max date is  2017\n"
     ]
    },
    {
     "data": {
      "text/html": [
       "<div>\n",
       "<style scoped>\n",
       "    .dataframe tbody tr th:only-of-type {\n",
       "        vertical-align: middle;\n",
       "    }\n",
       "\n",
       "    .dataframe tbody tr th {\n",
       "        vertical-align: top;\n",
       "    }\n",
       "\n",
       "    .dataframe thead th {\n",
       "        text-align: right;\n",
       "    }\n",
       "</style>\n",
       "<table border=\"1\" class=\"dataframe\">\n",
       "  <thead>\n",
       "    <tr style=\"text-align: right;\">\n",
       "      <th></th>\n",
       "      <th>SEASON_ID</th>\n",
       "      <th>TEAM</th>\n",
       "      <th>G</th>\n",
       "      <th>W</th>\n",
       "      <th>L</th>\n",
       "      <th>Year</th>\n",
       "    </tr>\n",
       "  </thead>\n",
       "  <tbody>\n",
       "    <tr>\n",
       "      <th>0</th>\n",
       "      <td>22003</td>\n",
       "      <td>Atlanta</td>\n",
       "      <td>82</td>\n",
       "      <td>28</td>\n",
       "      <td>54</td>\n",
       "      <td>2004</td>\n",
       "    </tr>\n",
       "    <tr>\n",
       "      <th>1</th>\n",
       "      <td>22003</td>\n",
       "      <td>Boston</td>\n",
       "      <td>82</td>\n",
       "      <td>36</td>\n",
       "      <td>46</td>\n",
       "      <td>2004</td>\n",
       "    </tr>\n",
       "    <tr>\n",
       "      <th>2</th>\n",
       "      <td>22003</td>\n",
       "      <td>Chicago</td>\n",
       "      <td>82</td>\n",
       "      <td>23</td>\n",
       "      <td>59</td>\n",
       "      <td>2004</td>\n",
       "    </tr>\n",
       "    <tr>\n",
       "      <th>3</th>\n",
       "      <td>22003</td>\n",
       "      <td>Cleveland</td>\n",
       "      <td>82</td>\n",
       "      <td>35</td>\n",
       "      <td>47</td>\n",
       "      <td>2004</td>\n",
       "    </tr>\n",
       "    <tr>\n",
       "      <th>4</th>\n",
       "      <td>22003</td>\n",
       "      <td>Dallas</td>\n",
       "      <td>82</td>\n",
       "      <td>52</td>\n",
       "      <td>30</td>\n",
       "      <td>2004</td>\n",
       "    </tr>\n",
       "  </tbody>\n",
       "</table>\n",
       "</div>"
      ],
      "text/plain": [
       "   SEASON_ID       TEAM   G   W   L  Year\n",
       "0      22003    Atlanta  82  28  54  2004\n",
       "1      22003     Boston  82  36  46  2004\n",
       "2      22003    Chicago  82  23  59  2004\n",
       "3      22003  Cleveland  82  35  47  2004\n",
       "4      22003     Dallas  82  52  30  2004"
      ]
     },
     "execution_count": 26,
     "metadata": {},
     "output_type": "execute_result"
    }
   ],
   "source": [
    "# Merging the dataframes                     \n",
    "ranking_summary_per_team = pd.merge(ranking_summary_per_team, season_id_lookup, how ='left', on ='SEASON_ID')\n",
    "# Check\n",
    "print(\"ranking_summary_per_team min date is \", ranking_summary_per_team['Year'].min())\n",
    "print(\"ranking_summary_per_team max date is \", ranking_summary_per_team['Year'].max())\n",
    "ranking_summary_per_team.head()"
   ]
  },
  {
   "cell_type": "code",
   "execution_count": 27,
   "id": "a008cdda",
   "metadata": {},
   "outputs": [
    {
     "name": "stdout",
     "output_type": "stream",
     "text": [
      "<class 'pandas.core.frame.DataFrame'>\n",
      "RangeIndex: 419 entries, 0 to 418\n",
      "Data columns (total 5 columns):\n",
      " #   Column  Non-Null Count  Dtype \n",
      "---  ------  --------------  ----- \n",
      " 0   Year    419 non-null    int64 \n",
      " 1   TEAM    419 non-null    object\n",
      " 2   G       419 non-null    int64 \n",
      " 3   W       419 non-null    int64 \n",
      " 4   L       419 non-null    int64 \n",
      "dtypes: int64(4), object(1)\n",
      "memory usage: 16.5+ KB\n"
     ]
    }
   ],
   "source": [
    "# Create final summary table \n",
    "ranking_final = ranking_summary_per_team[['Year','TEAM','G','W','L']]\n",
    "ranking_final.info()"
   ]
  },
  {
   "cell_type": "code",
   "execution_count": 28,
   "id": "9946b613",
   "metadata": {},
   "outputs": [
    {
     "data": {
      "text/plain": [
       "Year  G \n",
       "2004  82    29\n",
       "2005  82    30\n",
       "2006  82    30\n",
       "2007  82    30\n",
       "2008  82    30\n",
       "2009  82    30\n",
       "2010  82    30\n",
       "2011  82    30\n",
       "2012  66    30\n",
       "2013  82    28\n",
       "      81     2\n",
       "2014  82    30\n",
       "2015  82    30\n",
       "2016  82    30\n",
       "2017  82    30\n",
       "Name: count, dtype: int64"
      ]
     },
     "execution_count": 28,
     "metadata": {},
     "output_type": "execute_result"
    }
   ],
   "source": [
    "# Check by counting games\n",
    "ranking_final.groupby(\"Year\")[\"G\"].value_counts()"
   ]
  },
  {
   "cell_type": "markdown",
   "id": "f820c5e9",
   "metadata": {},
   "source": [
    "**Note:** As expected after compling the join with  season_id_lookup, it looks like ranking_summary_per_team.groupby(\"SEASON_ID\")[\"G\"].value_counts()"
   ]
  },
  {
   "cell_type": "code",
   "execution_count": 29,
   "id": "deaacc15",
   "metadata": {},
   "outputs": [
    {
     "name": "stdout",
     "output_type": "stream",
     "text": [
      "<class 'pandas.core.frame.DataFrame'>\n",
      "RangeIndex: 419 entries, 0 to 418\n",
      "Data columns (total 6 columns):\n",
      " #   Column    Non-Null Count  Dtype \n",
      "---  ------    --------------  ----- \n",
      " 0   Year      419 non-null    int64 \n",
      " 1   TEAM      419 non-null    object\n",
      " 2   G         419 non-null    int64 \n",
      " 3   W         419 non-null    int64 \n",
      " 4   L         419 non-null    int64 \n",
      " 5   Tm_Abrev  416 non-null    object\n",
      "dtypes: int64(4), object(2)\n",
      "memory usage: 19.8+ KB\n"
     ]
    }
   ],
   "source": [
    "# Merging the dataframes                     \n",
    "ranking_final = pd.merge(ranking_final, year_team_abrev_lookup, how ='left', on =['Year', 'TEAM'])\n",
    "# Check\n",
    "ranking_final.info()"
   ]
  },
  {
   "cell_type": "code",
   "execution_count": 30,
   "id": "1110f60a",
   "metadata": {},
   "outputs": [
    {
     "data": {
      "text/html": [
       "<div>\n",
       "<style scoped>\n",
       "    .dataframe tbody tr th:only-of-type {\n",
       "        vertical-align: middle;\n",
       "    }\n",
       "\n",
       "    .dataframe tbody tr th {\n",
       "        vertical-align: top;\n",
       "    }\n",
       "\n",
       "    .dataframe thead th {\n",
       "        text-align: right;\n",
       "    }\n",
       "</style>\n",
       "<table border=\"1\" class=\"dataframe\">\n",
       "  <thead>\n",
       "    <tr style=\"text-align: right;\">\n",
       "      <th></th>\n",
       "      <th>Year</th>\n",
       "      <th>TEAM</th>\n",
       "      <th>G</th>\n",
       "      <th>W</th>\n",
       "      <th>L</th>\n",
       "      <th>Tm_Abrev</th>\n",
       "    </tr>\n",
       "  </thead>\n",
       "  <tbody>\n",
       "    <tr>\n",
       "      <th>10</th>\n",
       "      <td>2004</td>\n",
       "      <td>L.A. Clippers</td>\n",
       "      <td>82</td>\n",
       "      <td>28</td>\n",
       "      <td>54</td>\n",
       "      <td>NaN</td>\n",
       "    </tr>\n",
       "    <tr>\n",
       "      <th>70</th>\n",
       "      <td>2006</td>\n",
       "      <td>L.A. Clippers</td>\n",
       "      <td>82</td>\n",
       "      <td>47</td>\n",
       "      <td>35</td>\n",
       "      <td>NaN</td>\n",
       "    </tr>\n",
       "    <tr>\n",
       "      <th>311</th>\n",
       "      <td>2014</td>\n",
       "      <td>L.A. Clippers</td>\n",
       "      <td>82</td>\n",
       "      <td>57</td>\n",
       "      <td>25</td>\n",
       "      <td>NaN</td>\n",
       "    </tr>\n",
       "  </tbody>\n",
       "</table>\n",
       "</div>"
      ],
      "text/plain": [
       "     Year           TEAM   G   W   L Tm_Abrev\n",
       "10   2004  L.A. Clippers  82  28  54      NaN\n",
       "70   2006  L.A. Clippers  82  47  35      NaN\n",
       "311  2014  L.A. Clippers  82  57  25      NaN"
      ]
     },
     "execution_count": 30,
     "metadata": {},
     "output_type": "execute_result"
    }
   ],
   "source": [
    "# Find null rows\n",
    "ranking_final_null_rows = ranking_final.loc[(ranking_final['Tm_Abrev'].isnull())]\n",
    "ranking_final_null_rows"
   ]
  },
  {
   "cell_type": "code",
   "execution_count": 31,
   "id": "f789be52",
   "metadata": {},
   "outputs": [
    {
     "name": "stdout",
     "output_type": "stream",
     "text": [
      "<class 'pandas.core.frame.DataFrame'>\n",
      "RangeIndex: 419 entries, 0 to 418\n",
      "Data columns (total 6 columns):\n",
      " #   Column    Non-Null Count  Dtype \n",
      "---  ------    --------------  ----- \n",
      " 0   Year      419 non-null    int64 \n",
      " 1   TEAM      419 non-null    object\n",
      " 2   G         419 non-null    int64 \n",
      " 3   W         419 non-null    int64 \n",
      " 4   L         419 non-null    int64 \n",
      " 5   Tm_Abrev  419 non-null    object\n",
      "dtypes: int64(4), object(2)\n",
      "memory usage: 19.8+ KB\n"
     ]
    }
   ],
   "source": [
    "# Replace NaN values \n",
    "ranking_final.loc[(ranking_final['Tm_Abrev'].isnull()), 'Tm_Abrev'] = 'LAC'\n",
    "ranking_final.info()"
   ]
  },
  {
   "cell_type": "code",
   "execution_count": 32,
   "id": "1e5fcb62",
   "metadata": {},
   "outputs": [
    {
     "name": "stdout",
     "output_type": "stream",
     "text": [
      "<class 'pandas.core.frame.DataFrame'>\n",
      "RangeIndex: 419 entries, 0 to 418\n",
      "Data columns (total 6 columns):\n",
      " #   Column  Non-Null Count  Dtype \n",
      "---  ------  --------------  ----- \n",
      " 0   Year    419 non-null    int64 \n",
      " 1   TEAM    419 non-null    object\n",
      " 2   G       419 non-null    int64 \n",
      " 3   W       419 non-null    int64 \n",
      " 4   L       419 non-null    int64 \n",
      " 5   Tm      419 non-null    object\n",
      "dtypes: int64(4), object(2)\n",
      "memory usage: 19.8+ KB\n"
     ]
    }
   ],
   "source": [
    "# Change column name \n",
    "ranking_final.rename(columns = {'Tm_Abrev':'Tm'}, inplace = True)\n",
    "ranking_final.info()"
   ]
  },
  {
   "cell_type": "markdown",
   "id": "4d557cd8",
   "metadata": {},
   "source": [
    "**Discussion:** At this point ranking_final df is ready to be merged with seasons_stats_final df that is creaded in the section below. "
   ]
  },
  {
   "cell_type": "markdown",
   "id": "eb45826a",
   "metadata": {},
   "source": [
    "### Create seasons_stats summary table"
   ]
  },
  {
   "cell_type": "code",
   "execution_count": 33,
   "id": "9d4958ba",
   "metadata": {},
   "outputs": [
    {
     "name": "stdout",
     "output_type": "stream",
     "text": [
      "seasons_stats_summary min date is  2004.0\n",
      "seasons_stats_summary max date is  2017.0\n"
     ]
    }
   ],
   "source": [
    "# Create stats df for year > 2004\n",
    "seasons_stats_summary = seasons_stats.loc[(seasons_stats['Year'] >= 2004)]\n",
    "# Check\n",
    "print(\"seasons_stats_summary min date is \", seasons_stats_summary['Year'].min())\n",
    "print(\"seasons_stats_summary max date is \", seasons_stats_summary['Year'].max())"
   ]
  },
  {
   "cell_type": "code",
   "execution_count": 34,
   "id": "e269931d",
   "metadata": {},
   "outputs": [
    {
     "name": "stdout",
     "output_type": "stream",
     "text": [
      "(8188, 17)\n"
     ]
    },
    {
     "data": {
      "text/html": [
       "<div>\n",
       "<style scoped>\n",
       "    .dataframe tbody tr th:only-of-type {\n",
       "        vertical-align: middle;\n",
       "    }\n",
       "\n",
       "    .dataframe tbody tr th {\n",
       "        vertical-align: top;\n",
       "    }\n",
       "\n",
       "    .dataframe thead th {\n",
       "        text-align: right;\n",
       "    }\n",
       "</style>\n",
       "<table border=\"1\" class=\"dataframe\">\n",
       "  <thead>\n",
       "    <tr style=\"text-align: right;\">\n",
       "      <th></th>\n",
       "      <th>Year</th>\n",
       "      <th>Player</th>\n",
       "      <th>Tm</th>\n",
       "      <th>G</th>\n",
       "      <th>MP</th>\n",
       "      <th>OBPM</th>\n",
       "      <th>DBPM</th>\n",
       "      <th>3P</th>\n",
       "      <th>3PA</th>\n",
       "      <th>2P</th>\n",
       "      <th>2PA</th>\n",
       "      <th>FGA</th>\n",
       "      <th>FT</th>\n",
       "      <th>FTA</th>\n",
       "      <th>PTS</th>\n",
       "      <th>DBPM*MP</th>\n",
       "      <th>OBPM*MP</th>\n",
       "    </tr>\n",
       "  </thead>\n",
       "  <tbody>\n",
       "    <tr>\n",
       "      <th>16490</th>\n",
       "      <td>2004.0</td>\n",
       "      <td>Shareef Abdur-Rahim</td>\n",
       "      <td>TOT</td>\n",
       "      <td>85.0</td>\n",
       "      <td>2684.0</td>\n",
       "      <td>1.3</td>\n",
       "      <td>-1.0</td>\n",
       "      <td>9.0</td>\n",
       "      <td>34.0</td>\n",
       "      <td>492.0</td>\n",
       "      <td>1020.0</td>\n",
       "      <td>1054.0</td>\n",
       "      <td>373.0</td>\n",
       "      <td>429.0</td>\n",
       "      <td>1384.0</td>\n",
       "      <td>-2684.0</td>\n",
       "      <td>3489.2</td>\n",
       "    </tr>\n",
       "    <tr>\n",
       "      <th>16491</th>\n",
       "      <td>2004.0</td>\n",
       "      <td>Shareef Abdur-Rahim</td>\n",
       "      <td>ATL</td>\n",
       "      <td>53.0</td>\n",
       "      <td>1956.0</td>\n",
       "      <td>2.1</td>\n",
       "      <td>-1.1</td>\n",
       "      <td>5.0</td>\n",
       "      <td>23.0</td>\n",
       "      <td>378.0</td>\n",
       "      <td>767.0</td>\n",
       "      <td>790.0</td>\n",
       "      <td>294.0</td>\n",
       "      <td>334.0</td>\n",
       "      <td>1065.0</td>\n",
       "      <td>-2151.6</td>\n",
       "      <td>4107.6</td>\n",
       "    </tr>\n",
       "    <tr>\n",
       "      <th>16492</th>\n",
       "      <td>2004.0</td>\n",
       "      <td>Shareef Abdur-Rahim</td>\n",
       "      <td>POR</td>\n",
       "      <td>32.0</td>\n",
       "      <td>728.0</td>\n",
       "      <td>-0.9</td>\n",
       "      <td>-0.5</td>\n",
       "      <td>4.0</td>\n",
       "      <td>11.0</td>\n",
       "      <td>114.0</td>\n",
       "      <td>253.0</td>\n",
       "      <td>264.0</td>\n",
       "      <td>79.0</td>\n",
       "      <td>95.0</td>\n",
       "      <td>319.0</td>\n",
       "      <td>-364.0</td>\n",
       "      <td>-655.2</td>\n",
       "    </tr>\n",
       "    <tr>\n",
       "      <th>16493</th>\n",
       "      <td>2004.0</td>\n",
       "      <td>Malik Allen</td>\n",
       "      <td>MIA</td>\n",
       "      <td>45.0</td>\n",
       "      <td>616.0</td>\n",
       "      <td>-4.7</td>\n",
       "      <td>0.2</td>\n",
       "      <td>0.0</td>\n",
       "      <td>0.0</td>\n",
       "      <td>83.0</td>\n",
       "      <td>198.0</td>\n",
       "      <td>198.0</td>\n",
       "      <td>25.0</td>\n",
       "      <td>33.0</td>\n",
       "      <td>191.0</td>\n",
       "      <td>123.2</td>\n",
       "      <td>-2895.2</td>\n",
       "    </tr>\n",
       "    <tr>\n",
       "      <th>16494</th>\n",
       "      <td>2004.0</td>\n",
       "      <td>Ray Allen</td>\n",
       "      <td>SEA</td>\n",
       "      <td>56.0</td>\n",
       "      <td>2152.0</td>\n",
       "      <td>5.9</td>\n",
       "      <td>-1.8</td>\n",
       "      <td>148.0</td>\n",
       "      <td>378.0</td>\n",
       "      <td>299.0</td>\n",
       "      <td>639.0</td>\n",
       "      <td>1017.0</td>\n",
       "      <td>245.0</td>\n",
       "      <td>271.0</td>\n",
       "      <td>1287.0</td>\n",
       "      <td>-3873.6</td>\n",
       "      <td>12696.8</td>\n",
       "    </tr>\n",
       "  </tbody>\n",
       "</table>\n",
       "</div>"
      ],
      "text/plain": [
       "         Year               Player   Tm     G      MP  OBPM  DBPM     3P  \\\n",
       "16490  2004.0  Shareef Abdur-Rahim  TOT  85.0  2684.0   1.3  -1.0    9.0   \n",
       "16491  2004.0  Shareef Abdur-Rahim  ATL  53.0  1956.0   2.1  -1.1    5.0   \n",
       "16492  2004.0  Shareef Abdur-Rahim  POR  32.0   728.0  -0.9  -0.5    4.0   \n",
       "16493  2004.0          Malik Allen  MIA  45.0   616.0  -4.7   0.2    0.0   \n",
       "16494  2004.0            Ray Allen  SEA  56.0  2152.0   5.9  -1.8  148.0   \n",
       "\n",
       "         3PA     2P     2PA     FGA     FT    FTA     PTS  DBPM*MP  OBPM*MP  \n",
       "16490   34.0  492.0  1020.0  1054.0  373.0  429.0  1384.0  -2684.0   3489.2  \n",
       "16491   23.0  378.0   767.0   790.0  294.0  334.0  1065.0  -2151.6   4107.6  \n",
       "16492   11.0  114.0   253.0   264.0   79.0   95.0   319.0   -364.0   -655.2  \n",
       "16493    0.0   83.0   198.0   198.0   25.0   33.0   191.0    123.2  -2895.2  \n",
       "16494  378.0  299.0   639.0  1017.0  245.0  271.0  1287.0  -3873.6  12696.8  "
      ]
     },
     "execution_count": 34,
     "metadata": {},
     "output_type": "execute_result"
    }
   ],
   "source": [
    "# Selelct columns \n",
    "seasons_stats_summary = seasons_stats_summary[['Year', 'Player', 'Tm', 'G', 'MP', 'OBPM', 'DBPM', '3P', '3PA', '2P', '2PA',\n",
    "                                               'FGA', 'FT', 'FTA', 'PTS']]\n",
    "# Calculate each player’s contributions to defense and offence\n",
    "seasons_stats_summary['DBPM*MP'] = seasons_stats_summary['DBPM']*seasons_stats_summary['MP']\n",
    "seasons_stats_summary['OBPM*MP'] = seasons_stats_summary['OBPM']*seasons_stats_summary['MP']\n",
    "print(seasons_stats_summary.shape)\n",
    "seasons_stats_summary.head()"
   ]
  },
  {
   "cell_type": "code",
   "execution_count": 35,
   "id": "d15bd21b",
   "metadata": {},
   "outputs": [
    {
     "name": "stdout",
     "output_type": "stream",
     "text": [
      "<class 'pandas.core.frame.DataFrame'>\n",
      "Index: 8188 entries, 16490 to 24690\n",
      "Data columns (total 17 columns):\n",
      " #   Column   Non-Null Count  Dtype  \n",
      "---  ------   --------------  -----  \n",
      " 0   Year     8188 non-null   float64\n",
      " 1   Player   8188 non-null   object \n",
      " 2   Tm       8188 non-null   object \n",
      " 3   G        8188 non-null   float64\n",
      " 4   MP       8188 non-null   float64\n",
      " 5   OBPM     8188 non-null   float64\n",
      " 6   DBPM     8188 non-null   float64\n",
      " 7   3P       8188 non-null   float64\n",
      " 8   3PA      8188 non-null   float64\n",
      " 9   2P       8188 non-null   float64\n",
      " 10  2PA      8188 non-null   float64\n",
      " 11  FGA      8188 non-null   float64\n",
      " 12  FT       8188 non-null   float64\n",
      " 13  FTA      8188 non-null   float64\n",
      " 14  PTS      8188 non-null   float64\n",
      " 15  DBPM*MP  8188 non-null   float64\n",
      " 16  OBPM*MP  8188 non-null   float64\n",
      "dtypes: float64(15), object(2)\n",
      "memory usage: 1.1+ MB\n"
     ]
    }
   ],
   "source": [
    "seasons_stats_summary.info()"
   ]
  },
  {
   "cell_type": "code",
   "execution_count": 36,
   "id": "c40cdac6",
   "metadata": {},
   "outputs": [
    {
     "data": {
      "text/plain": [
       "(7369, 17)"
      ]
     },
     "execution_count": 36,
     "metadata": {},
     "output_type": "execute_result"
    }
   ],
   "source": [
    "# Remove Tm = TOT rows due to redancy. This is Total per player. We already have this info. \n",
    "seasons_stats_summary = seasons_stats_summary.loc[seasons_stats_summary['Tm'] != \"TOT\"]\n",
    "seasons_stats_summary.shape"
   ]
  },
  {
   "cell_type": "code",
   "execution_count": 37,
   "id": "bdc73970",
   "metadata": {
    "scrolled": true
   },
   "outputs": [
    {
     "name": "stdout",
     "output_type": "stream",
     "text": [
      "<class 'pandas.core.frame.DataFrame'>\n",
      "RangeIndex: 419 entries, 0 to 418\n",
      "Data columns (total 15 columns):\n",
      " #   Column       Non-Null Count  Dtype  \n",
      "---  ------       --------------  -----  \n",
      " 0   Year         419 non-null    float64\n",
      " 1   Tm           419 non-null    object \n",
      " 2   MP_SUM       419 non-null    float64\n",
      " 3   OBPM_SUM     419 non-null    float64\n",
      " 4   DBMP_SUM     419 non-null    float64\n",
      " 5   3P_SUM       419 non-null    float64\n",
      " 6   3PA_SUM      419 non-null    float64\n",
      " 7   2P_SUM       419 non-null    float64\n",
      " 8   2PA_SUM      419 non-null    float64\n",
      " 9   FGA_SUM      419 non-null    float64\n",
      " 10  FT_SUM       419 non-null    float64\n",
      " 11  FTA_SUM      419 non-null    float64\n",
      " 12  PTS_SUM      419 non-null    float64\n",
      " 13  DBPM*MP_SUM  419 non-null    float64\n",
      " 14  OBPM*MP_SUM  419 non-null    float64\n",
      "dtypes: float64(14), object(1)\n",
      "memory usage: 49.2+ KB\n",
      "None\n"
     ]
    },
    {
     "data": {
      "text/html": [
       "<div>\n",
       "<style scoped>\n",
       "    .dataframe tbody tr th:only-of-type {\n",
       "        vertical-align: middle;\n",
       "    }\n",
       "\n",
       "    .dataframe tbody tr th {\n",
       "        vertical-align: top;\n",
       "    }\n",
       "\n",
       "    .dataframe thead th {\n",
       "        text-align: right;\n",
       "    }\n",
       "</style>\n",
       "<table border=\"1\" class=\"dataframe\">\n",
       "  <thead>\n",
       "    <tr style=\"text-align: right;\">\n",
       "      <th></th>\n",
       "      <th>Year</th>\n",
       "      <th>Tm</th>\n",
       "      <th>MP_SUM</th>\n",
       "      <th>OBPM_SUM</th>\n",
       "      <th>DBMP_SUM</th>\n",
       "      <th>3P_SUM</th>\n",
       "      <th>3PA_SUM</th>\n",
       "      <th>2P_SUM</th>\n",
       "      <th>2PA_SUM</th>\n",
       "      <th>FGA_SUM</th>\n",
       "      <th>FT_SUM</th>\n",
       "      <th>FTA_SUM</th>\n",
       "      <th>PTS_SUM</th>\n",
       "      <th>DBPM*MP_SUM</th>\n",
       "      <th>OBPM*MP_SUM</th>\n",
       "    </tr>\n",
       "  </thead>\n",
       "  <tbody>\n",
       "    <tr>\n",
       "      <th>0</th>\n",
       "      <td>2004.0</td>\n",
       "      <td>ATL</td>\n",
       "      <td>19905.0</td>\n",
       "      <td>-59.6</td>\n",
       "      <td>-38.5</td>\n",
       "      <td>419.0</td>\n",
       "      <td>1249.0</td>\n",
       "      <td>2410.0</td>\n",
       "      <td>5280.0</td>\n",
       "      <td>6529.0</td>\n",
       "      <td>1534.0</td>\n",
       "      <td>1976.0</td>\n",
       "      <td>7611.0</td>\n",
       "      <td>-17620.4</td>\n",
       "      <td>-8245.7</td>\n",
       "    </tr>\n",
       "    <tr>\n",
       "      <th>1</th>\n",
       "      <td>2004.0</td>\n",
       "      <td>BOS</td>\n",
       "      <td>19705.0</td>\n",
       "      <td>-18.6</td>\n",
       "      <td>-15.7</td>\n",
       "      <td>553.0</td>\n",
       "      <td>1599.0</td>\n",
       "      <td>2290.0</td>\n",
       "      <td>4816.0</td>\n",
       "      <td>6415.0</td>\n",
       "      <td>1572.0</td>\n",
       "      <td>2095.0</td>\n",
       "      <td>7811.0</td>\n",
       "      <td>-5450.6</td>\n",
       "      <td>-5215.3</td>\n",
       "    </tr>\n",
       "    <tr>\n",
       "      <th>2</th>\n",
       "      <td>2004.0</td>\n",
       "      <td>CHI</td>\n",
       "      <td>19830.0</td>\n",
       "      <td>-58.1</td>\n",
       "      <td>-6.9</td>\n",
       "      <td>429.0</td>\n",
       "      <td>1256.0</td>\n",
       "      <td>2369.0</td>\n",
       "      <td>5497.0</td>\n",
       "      <td>6753.0</td>\n",
       "      <td>1330.0</td>\n",
       "      <td>1834.0</td>\n",
       "      <td>7355.0</td>\n",
       "      <td>-4503.8</td>\n",
       "      <td>-30221.5</td>\n",
       "    </tr>\n",
       "    <tr>\n",
       "      <th>3</th>\n",
       "      <td>2004.0</td>\n",
       "      <td>CLE</td>\n",
       "      <td>19855.0</td>\n",
       "      <td>-54.2</td>\n",
       "      <td>-26.9</td>\n",
       "      <td>247.0</td>\n",
       "      <td>786.0</td>\n",
       "      <td>2675.0</td>\n",
       "      <td>5967.0</td>\n",
       "      <td>6753.0</td>\n",
       "      <td>1528.0</td>\n",
       "      <td>2030.0</td>\n",
       "      <td>7619.0</td>\n",
       "      <td>-8784.8</td>\n",
       "      <td>-7448.3</td>\n",
       "    </tr>\n",
       "    <tr>\n",
       "      <th>4</th>\n",
       "      <td>2004.0</td>\n",
       "      <td>DAL</td>\n",
       "      <td>19805.0</td>\n",
       "      <td>-3.5</td>\n",
       "      <td>-8.6</td>\n",
       "      <td>507.0</td>\n",
       "      <td>1456.0</td>\n",
       "      <td>2815.0</td>\n",
       "      <td>5774.0</td>\n",
       "      <td>7230.0</td>\n",
       "      <td>1475.0</td>\n",
       "      <td>1854.0</td>\n",
       "      <td>8626.0</td>\n",
       "      <td>-19631.2</td>\n",
       "      <td>45518.7</td>\n",
       "    </tr>\n",
       "    <tr>\n",
       "      <th>5</th>\n",
       "      <td>2004.0</td>\n",
       "      <td>DEN</td>\n",
       "      <td>19730.0</td>\n",
       "      <td>-31.5</td>\n",
       "      <td>-1.7</td>\n",
       "      <td>331.0</td>\n",
       "      <td>985.0</td>\n",
       "      <td>2662.0</td>\n",
       "      <td>5778.0</td>\n",
       "      <td>6763.0</td>\n",
       "      <td>1655.0</td>\n",
       "      <td>2159.0</td>\n",
       "      <td>7972.0</td>\n",
       "      <td>2676.1</td>\n",
       "      <td>3970.5</td>\n",
       "    </tr>\n",
       "    <tr>\n",
       "      <th>6</th>\n",
       "      <td>2004.0</td>\n",
       "      <td>DET</td>\n",
       "      <td>19780.0</td>\n",
       "      <td>-37.1</td>\n",
       "      <td>20.9</td>\n",
       "      <td>333.0</td>\n",
       "      <td>968.0</td>\n",
       "      <td>2414.0</td>\n",
       "      <td>5346.0</td>\n",
       "      <td>6314.0</td>\n",
       "      <td>1561.0</td>\n",
       "      <td>2074.0</td>\n",
       "      <td>7388.0</td>\n",
       "      <td>32209.9</td>\n",
       "      <td>-4575.1</td>\n",
       "    </tr>\n",
       "    <tr>\n",
       "      <th>7</th>\n",
       "      <td>2004.0</td>\n",
       "      <td>GSW</td>\n",
       "      <td>19855.0</td>\n",
       "      <td>-49.6</td>\n",
       "      <td>-20.5</td>\n",
       "      <td>429.0</td>\n",
       "      <td>1283.0</td>\n",
       "      <td>2446.0</td>\n",
       "      <td>5228.0</td>\n",
       "      <td>6511.0</td>\n",
       "      <td>1470.0</td>\n",
       "      <td>2028.0</td>\n",
       "      <td>7649.0</td>\n",
       "      <td>-740.3</td>\n",
       "      <td>248.7</td>\n",
       "    </tr>\n",
       "    <tr>\n",
       "      <th>8</th>\n",
       "      <td>2004.0</td>\n",
       "      <td>HOU</td>\n",
       "      <td>19930.0</td>\n",
       "      <td>-34.9</td>\n",
       "      <td>8.2</td>\n",
       "      <td>515.0</td>\n",
       "      <td>1406.0</td>\n",
       "      <td>2223.0</td>\n",
       "      <td>4789.0</td>\n",
       "      <td>6195.0</td>\n",
       "      <td>1371.0</td>\n",
       "      <td>1774.0</td>\n",
       "      <td>7362.0</td>\n",
       "      <td>22220.1</td>\n",
       "      <td>-10106.9</td>\n",
       "    </tr>\n",
       "    <tr>\n",
       "      <th>9</th>\n",
       "      <td>2004.0</td>\n",
       "      <td>IND</td>\n",
       "      <td>19805.0</td>\n",
       "      <td>-19.7</td>\n",
       "      <td>6.2</td>\n",
       "      <td>449.0</td>\n",
       "      <td>1281.0</td>\n",
       "      <td>2304.0</td>\n",
       "      <td>5041.0</td>\n",
       "      <td>6322.0</td>\n",
       "      <td>1538.0</td>\n",
       "      <td>2014.0</td>\n",
       "      <td>7493.0</td>\n",
       "      <td>23720.8</td>\n",
       "      <td>3259.9</td>\n",
       "    </tr>\n",
       "  </tbody>\n",
       "</table>\n",
       "</div>"
      ],
      "text/plain": [
       "     Year   Tm   MP_SUM  OBPM_SUM  DBMP_SUM  3P_SUM  3PA_SUM  2P_SUM  2PA_SUM  \\\n",
       "0  2004.0  ATL  19905.0     -59.6     -38.5   419.0   1249.0  2410.0   5280.0   \n",
       "1  2004.0  BOS  19705.0     -18.6     -15.7   553.0   1599.0  2290.0   4816.0   \n",
       "2  2004.0  CHI  19830.0     -58.1      -6.9   429.0   1256.0  2369.0   5497.0   \n",
       "3  2004.0  CLE  19855.0     -54.2     -26.9   247.0    786.0  2675.0   5967.0   \n",
       "4  2004.0  DAL  19805.0      -3.5      -8.6   507.0   1456.0  2815.0   5774.0   \n",
       "5  2004.0  DEN  19730.0     -31.5      -1.7   331.0    985.0  2662.0   5778.0   \n",
       "6  2004.0  DET  19780.0     -37.1      20.9   333.0    968.0  2414.0   5346.0   \n",
       "7  2004.0  GSW  19855.0     -49.6     -20.5   429.0   1283.0  2446.0   5228.0   \n",
       "8  2004.0  HOU  19930.0     -34.9       8.2   515.0   1406.0  2223.0   4789.0   \n",
       "9  2004.0  IND  19805.0     -19.7       6.2   449.0   1281.0  2304.0   5041.0   \n",
       "\n",
       "   FGA_SUM  FT_SUM  FTA_SUM  PTS_SUM  DBPM*MP_SUM  OBPM*MP_SUM  \n",
       "0   6529.0  1534.0   1976.0   7611.0     -17620.4      -8245.7  \n",
       "1   6415.0  1572.0   2095.0   7811.0      -5450.6      -5215.3  \n",
       "2   6753.0  1330.0   1834.0   7355.0      -4503.8     -30221.5  \n",
       "3   6753.0  1528.0   2030.0   7619.0      -8784.8      -7448.3  \n",
       "4   7230.0  1475.0   1854.0   8626.0     -19631.2      45518.7  \n",
       "5   6763.0  1655.0   2159.0   7972.0       2676.1       3970.5  \n",
       "6   6314.0  1561.0   2074.0   7388.0      32209.9      -4575.1  \n",
       "7   6511.0  1470.0   2028.0   7649.0       -740.3        248.7  \n",
       "8   6195.0  1371.0   1774.0   7362.0      22220.1     -10106.9  \n",
       "9   6322.0  1538.0   2014.0   7493.0      23720.8       3259.9  "
      ]
     },
     "execution_count": 37,
     "metadata": {},
     "output_type": "execute_result"
    }
   ],
   "source": [
    "# group by Year and Team and sum up stats\n",
    "seasons_stats_final = seasons_stats_summary.groupby(['Year', 'Tm'], as_index=False)[['MP', 'OBPM', 'DBPM',\n",
    "                            '3P', '3PA', '2P', '2PA', 'FGA',  'FT', 'FTA', 'PTS', 'DBPM*MP', 'OBPM*MP']].sum()\n",
    "# remane columns to reflect the change \n",
    "seasons_stats_final.rename(columns = {'MP':'MP_SUM', 'OBPM':'OBPM_SUM', 'DBPM':'DBMP_SUM',\n",
    "'3P':'3P_SUM', '3PA':'3PA_SUM', '2P':'2P_SUM', '2PA':'2PA_SUM', 'FGA':'FGA_SUM', 'FT':'FT_SUM', 'FTA':'FTA_SUM',\n",
    "'PTS':'PTS_SUM', 'DBPM*MP':'DBPM*MP_SUM', 'OBPM*MP':'OBPM*MP_SUM'}, inplace = True) \n",
    "print(seasons_stats_final.info())\n",
    "seasons_stats_final.head(10)"
   ]
  },
  {
   "cell_type": "markdown",
   "id": "b5e121b0",
   "metadata": {},
   "source": [
    "**Note: Great!** As expected, the number of the colums in ranking_final == number of the columns in seasons_stats_final.  "
   ]
  },
  {
   "cell_type": "code",
   "execution_count": 38,
   "id": "cf5742ee",
   "metadata": {},
   "outputs": [
    {
     "data": {
      "text/plain": [
       "Year\n",
       "2004.0    29\n",
       "2005.0    30\n",
       "2006.0    30\n",
       "2007.0    30\n",
       "2008.0    30\n",
       "2009.0    30\n",
       "2010.0    30\n",
       "2011.0    30\n",
       "2012.0    30\n",
       "2013.0    30\n",
       "2014.0    30\n",
       "2015.0    30\n",
       "2016.0    30\n",
       "2017.0    30\n",
       "Name: Tm, dtype: int64"
      ]
     },
     "execution_count": 38,
     "metadata": {},
     "output_type": "execute_result"
    }
   ],
   "source": [
    "# Count number of teams per year\n",
    "seasons_stats_final.groupby(['Year'])['Tm'].count()"
   ]
  },
  {
   "cell_type": "markdown",
   "id": "d084ddcc",
   "metadata": {},
   "source": [
    "**Note: Great!** As expected, the number of teams per SEASON_ID in ranking_final == number of teams per Year in seasons_stats_final. Thus, both dfs can be joint on Year and Team. "
   ]
  },
  {
   "cell_type": "code",
   "execution_count": 39,
   "id": "2e9c8825",
   "metadata": {
    "scrolled": true
   },
   "outputs": [
    {
     "name": "stdout",
     "output_type": "stream",
     "text": [
      "(419, 21)\n"
     ]
    },
    {
     "data": {
      "text/html": [
       "<div>\n",
       "<style scoped>\n",
       "    .dataframe tbody tr th:only-of-type {\n",
       "        vertical-align: middle;\n",
       "    }\n",
       "\n",
       "    .dataframe tbody tr th {\n",
       "        vertical-align: top;\n",
       "    }\n",
       "\n",
       "    .dataframe thead th {\n",
       "        text-align: right;\n",
       "    }\n",
       "</style>\n",
       "<table border=\"1\" class=\"dataframe\">\n",
       "  <thead>\n",
       "    <tr style=\"text-align: right;\">\n",
       "      <th></th>\n",
       "      <th>Year</th>\n",
       "      <th>Tm</th>\n",
       "      <th>MP_SUM</th>\n",
       "      <th>OBPM_SUM</th>\n",
       "      <th>DBMP_SUM</th>\n",
       "      <th>3P_SUM</th>\n",
       "      <th>3PA_SUM</th>\n",
       "      <th>2P_SUM</th>\n",
       "      <th>2PA_SUM</th>\n",
       "      <th>FGA_SUM</th>\n",
       "      <th>...</th>\n",
       "      <th>FTA_SUM</th>\n",
       "      <th>PTS_SUM</th>\n",
       "      <th>dbpm_tot</th>\n",
       "      <th>obpm_tot</th>\n",
       "      <th>pts_per_min</th>\n",
       "      <th>2ft_pct</th>\n",
       "      <th>3fg_pct</th>\n",
       "      <th>ts_pct</th>\n",
       "      <th>dbpm_norm</th>\n",
       "      <th>obpm_norm</th>\n",
       "    </tr>\n",
       "  </thead>\n",
       "  <tbody>\n",
       "    <tr>\n",
       "      <th>0</th>\n",
       "      <td>2004.0</td>\n",
       "      <td>ATL</td>\n",
       "      <td>19905.0</td>\n",
       "      <td>-59.6</td>\n",
       "      <td>-38.5</td>\n",
       "      <td>419.0</td>\n",
       "      <td>1249.0</td>\n",
       "      <td>2410.0</td>\n",
       "      <td>5280.0</td>\n",
       "      <td>6529.0</td>\n",
       "      <td>...</td>\n",
       "      <td>1976.0</td>\n",
       "      <td>7611.0</td>\n",
       "      <td>-17620.4</td>\n",
       "      <td>-8245.7</td>\n",
       "      <td>0.382366</td>\n",
       "      <td>0.456439</td>\n",
       "      <td>0.335468</td>\n",
       "      <td>0.514365</td>\n",
       "      <td>-0.885225</td>\n",
       "      <td>-0.414253</td>\n",
       "    </tr>\n",
       "    <tr>\n",
       "      <th>1</th>\n",
       "      <td>2004.0</td>\n",
       "      <td>BOS</td>\n",
       "      <td>19705.0</td>\n",
       "      <td>-18.6</td>\n",
       "      <td>-15.7</td>\n",
       "      <td>553.0</td>\n",
       "      <td>1599.0</td>\n",
       "      <td>2290.0</td>\n",
       "      <td>4816.0</td>\n",
       "      <td>6415.0</td>\n",
       "      <td>...</td>\n",
       "      <td>2095.0</td>\n",
       "      <td>7811.0</td>\n",
       "      <td>-5450.6</td>\n",
       "      <td>-5215.3</td>\n",
       "      <td>0.396397</td>\n",
       "      <td>0.475498</td>\n",
       "      <td>0.345841</td>\n",
       "      <td>0.532317</td>\n",
       "      <td>-0.276610</td>\n",
       "      <td>-0.264669</td>\n",
       "    </tr>\n",
       "    <tr>\n",
       "      <th>2</th>\n",
       "      <td>2004.0</td>\n",
       "      <td>CHI</td>\n",
       "      <td>19830.0</td>\n",
       "      <td>-58.1</td>\n",
       "      <td>-6.9</td>\n",
       "      <td>429.0</td>\n",
       "      <td>1256.0</td>\n",
       "      <td>2369.0</td>\n",
       "      <td>5497.0</td>\n",
       "      <td>6753.0</td>\n",
       "      <td>...</td>\n",
       "      <td>1834.0</td>\n",
       "      <td>7355.0</td>\n",
       "      <td>-4503.8</td>\n",
       "      <td>-30221.5</td>\n",
       "      <td>0.370903</td>\n",
       "      <td>0.430962</td>\n",
       "      <td>0.341561</td>\n",
       "      <td>0.486444</td>\n",
       "      <td>-0.227121</td>\n",
       "      <td>-1.524029</td>\n",
       "    </tr>\n",
       "    <tr>\n",
       "      <th>3</th>\n",
       "      <td>2004.0</td>\n",
       "      <td>CLE</td>\n",
       "      <td>19855.0</td>\n",
       "      <td>-54.2</td>\n",
       "      <td>-26.9</td>\n",
       "      <td>247.0</td>\n",
       "      <td>786.0</td>\n",
       "      <td>2675.0</td>\n",
       "      <td>5967.0</td>\n",
       "      <td>6753.0</td>\n",
       "      <td>...</td>\n",
       "      <td>2030.0</td>\n",
       "      <td>7619.0</td>\n",
       "      <td>-8784.8</td>\n",
       "      <td>-7448.3</td>\n",
       "      <td>0.383732</td>\n",
       "      <td>0.448299</td>\n",
       "      <td>0.314249</td>\n",
       "      <td>0.498221</td>\n",
       "      <td>-0.442448</td>\n",
       "      <td>-0.375135</td>\n",
       "    </tr>\n",
       "    <tr>\n",
       "      <th>4</th>\n",
       "      <td>2004.0</td>\n",
       "      <td>DAL</td>\n",
       "      <td>19805.0</td>\n",
       "      <td>-3.5</td>\n",
       "      <td>-8.6</td>\n",
       "      <td>507.0</td>\n",
       "      <td>1456.0</td>\n",
       "      <td>2815.0</td>\n",
       "      <td>5774.0</td>\n",
       "      <td>7230.0</td>\n",
       "      <td>...</td>\n",
       "      <td>1854.0</td>\n",
       "      <td>8626.0</td>\n",
       "      <td>-19631.2</td>\n",
       "      <td>45518.7</td>\n",
       "      <td>0.435547</td>\n",
       "      <td>0.487530</td>\n",
       "      <td>0.348214</td>\n",
       "      <td>0.536059</td>\n",
       "      <td>-0.991224</td>\n",
       "      <td>2.298344</td>\n",
       "    </tr>\n",
       "    <tr>\n",
       "      <th>5</th>\n",
       "      <td>2004.0</td>\n",
       "      <td>DEN</td>\n",
       "      <td>19730.0</td>\n",
       "      <td>-31.5</td>\n",
       "      <td>-1.7</td>\n",
       "      <td>331.0</td>\n",
       "      <td>985.0</td>\n",
       "      <td>2662.0</td>\n",
       "      <td>5778.0</td>\n",
       "      <td>6763.0</td>\n",
       "      <td>...</td>\n",
       "      <td>2159.0</td>\n",
       "      <td>7972.0</td>\n",
       "      <td>2676.1</td>\n",
       "      <td>3970.5</td>\n",
       "      <td>0.404055</td>\n",
       "      <td>0.460713</td>\n",
       "      <td>0.336041</td>\n",
       "      <td>0.516793</td>\n",
       "      <td>0.135636</td>\n",
       "      <td>0.201242</td>\n",
       "    </tr>\n",
       "    <tr>\n",
       "      <th>6</th>\n",
       "      <td>2004.0</td>\n",
       "      <td>DET</td>\n",
       "      <td>19780.0</td>\n",
       "      <td>-37.1</td>\n",
       "      <td>20.9</td>\n",
       "      <td>333.0</td>\n",
       "      <td>968.0</td>\n",
       "      <td>2414.0</td>\n",
       "      <td>5346.0</td>\n",
       "      <td>6314.0</td>\n",
       "      <td>...</td>\n",
       "      <td>2074.0</td>\n",
       "      <td>7388.0</td>\n",
       "      <td>32209.9</td>\n",
       "      <td>-4575.1</td>\n",
       "      <td>0.373509</td>\n",
       "      <td>0.451553</td>\n",
       "      <td>0.344008</td>\n",
       "      <td>0.511170</td>\n",
       "      <td>1.628407</td>\n",
       "      <td>-0.231299</td>\n",
       "    </tr>\n",
       "    <tr>\n",
       "      <th>7</th>\n",
       "      <td>2004.0</td>\n",
       "      <td>GSW</td>\n",
       "      <td>19855.0</td>\n",
       "      <td>-49.6</td>\n",
       "      <td>-20.5</td>\n",
       "      <td>429.0</td>\n",
       "      <td>1283.0</td>\n",
       "      <td>2446.0</td>\n",
       "      <td>5228.0</td>\n",
       "      <td>6511.0</td>\n",
       "      <td>...</td>\n",
       "      <td>2028.0</td>\n",
       "      <td>7649.0</td>\n",
       "      <td>-740.3</td>\n",
       "      <td>248.7</td>\n",
       "      <td>0.385243</td>\n",
       "      <td>0.467865</td>\n",
       "      <td>0.334373</td>\n",
       "      <td>0.516593</td>\n",
       "      <td>-0.037285</td>\n",
       "      <td>0.012526</td>\n",
       "    </tr>\n",
       "    <tr>\n",
       "      <th>8</th>\n",
       "      <td>2004.0</td>\n",
       "      <td>HOU</td>\n",
       "      <td>19930.0</td>\n",
       "      <td>-34.9</td>\n",
       "      <td>8.2</td>\n",
       "      <td>515.0</td>\n",
       "      <td>1406.0</td>\n",
       "      <td>2223.0</td>\n",
       "      <td>4789.0</td>\n",
       "      <td>6195.0</td>\n",
       "      <td>...</td>\n",
       "      <td>1774.0</td>\n",
       "      <td>7362.0</td>\n",
       "      <td>22220.1</td>\n",
       "      <td>-10106.9</td>\n",
       "      <td>0.369393</td>\n",
       "      <td>0.464189</td>\n",
       "      <td>0.366287</td>\n",
       "      <td>0.527700</td>\n",
       "      <td>1.114907</td>\n",
       "      <td>-0.507120</td>\n",
       "    </tr>\n",
       "    <tr>\n",
       "      <th>9</th>\n",
       "      <td>2004.0</td>\n",
       "      <td>IND</td>\n",
       "      <td>19805.0</td>\n",
       "      <td>-19.7</td>\n",
       "      <td>6.2</td>\n",
       "      <td>449.0</td>\n",
       "      <td>1281.0</td>\n",
       "      <td>2304.0</td>\n",
       "      <td>5041.0</td>\n",
       "      <td>6322.0</td>\n",
       "      <td>...</td>\n",
       "      <td>2014.0</td>\n",
       "      <td>7493.0</td>\n",
       "      <td>23720.8</td>\n",
       "      <td>3259.9</td>\n",
       "      <td>0.378339</td>\n",
       "      <td>0.457052</td>\n",
       "      <td>0.350507</td>\n",
       "      <td>0.519758</td>\n",
       "      <td>1.197718</td>\n",
       "      <td>0.164600</td>\n",
       "    </tr>\n",
       "  </tbody>\n",
       "</table>\n",
       "<p>10 rows × 21 columns</p>\n",
       "</div>"
      ],
      "text/plain": [
       "     Year   Tm   MP_SUM  OBPM_SUM  DBMP_SUM  3P_SUM  3PA_SUM  2P_SUM  2PA_SUM  \\\n",
       "0  2004.0  ATL  19905.0     -59.6     -38.5   419.0   1249.0  2410.0   5280.0   \n",
       "1  2004.0  BOS  19705.0     -18.6     -15.7   553.0   1599.0  2290.0   4816.0   \n",
       "2  2004.0  CHI  19830.0     -58.1      -6.9   429.0   1256.0  2369.0   5497.0   \n",
       "3  2004.0  CLE  19855.0     -54.2     -26.9   247.0    786.0  2675.0   5967.0   \n",
       "4  2004.0  DAL  19805.0      -3.5      -8.6   507.0   1456.0  2815.0   5774.0   \n",
       "5  2004.0  DEN  19730.0     -31.5      -1.7   331.0    985.0  2662.0   5778.0   \n",
       "6  2004.0  DET  19780.0     -37.1      20.9   333.0    968.0  2414.0   5346.0   \n",
       "7  2004.0  GSW  19855.0     -49.6     -20.5   429.0   1283.0  2446.0   5228.0   \n",
       "8  2004.0  HOU  19930.0     -34.9       8.2   515.0   1406.0  2223.0   4789.0   \n",
       "9  2004.0  IND  19805.0     -19.7       6.2   449.0   1281.0  2304.0   5041.0   \n",
       "\n",
       "   FGA_SUM  ...  FTA_SUM  PTS_SUM  dbpm_tot  obpm_tot  pts_per_min   2ft_pct  \\\n",
       "0   6529.0  ...   1976.0   7611.0  -17620.4   -8245.7     0.382366  0.456439   \n",
       "1   6415.0  ...   2095.0   7811.0   -5450.6   -5215.3     0.396397  0.475498   \n",
       "2   6753.0  ...   1834.0   7355.0   -4503.8  -30221.5     0.370903  0.430962   \n",
       "3   6753.0  ...   2030.0   7619.0   -8784.8   -7448.3     0.383732  0.448299   \n",
       "4   7230.0  ...   1854.0   8626.0  -19631.2   45518.7     0.435547  0.487530   \n",
       "5   6763.0  ...   2159.0   7972.0    2676.1    3970.5     0.404055  0.460713   \n",
       "6   6314.0  ...   2074.0   7388.0   32209.9   -4575.1     0.373509  0.451553   \n",
       "7   6511.0  ...   2028.0   7649.0    -740.3     248.7     0.385243  0.467865   \n",
       "8   6195.0  ...   1774.0   7362.0   22220.1  -10106.9     0.369393  0.464189   \n",
       "9   6322.0  ...   2014.0   7493.0   23720.8    3259.9     0.378339  0.457052   \n",
       "\n",
       "    3fg_pct    ts_pct  dbpm_norm  obpm_norm  \n",
       "0  0.335468  0.514365  -0.885225  -0.414253  \n",
       "1  0.345841  0.532317  -0.276610  -0.264669  \n",
       "2  0.341561  0.486444  -0.227121  -1.524029  \n",
       "3  0.314249  0.498221  -0.442448  -0.375135  \n",
       "4  0.348214  0.536059  -0.991224   2.298344  \n",
       "5  0.336041  0.516793   0.135636   0.201242  \n",
       "6  0.344008  0.511170   1.628407  -0.231299  \n",
       "7  0.334373  0.516593  -0.037285   0.012526  \n",
       "8  0.366287  0.527700   1.114907  -0.507120  \n",
       "9  0.350507  0.519758   1.197718   0.164600  \n",
       "\n",
       "[10 rows x 21 columns]"
      ]
     },
     "execution_count": 39,
     "metadata": {},
     "output_type": "execute_result"
    }
   ],
   "source": [
    "# Create calculated fields \n",
    "# pts_per_min = SUM(PTS)/SUM(MP)\n",
    "seasons_stats_final['pts_per_min'] = seasons_stats_final['PTS_SUM']/seasons_stats_final['MP_SUM']\n",
    "#2 fg_pct = SUM(2P)/SUM(2PA)\n",
    "seasons_stats_final['2ft_pct'] = seasons_stats_final['2P_SUM']/seasons_stats_final['2PA_SUM']\n",
    "# 3fg_pct = SUM(3P)/SUM(3PA)\n",
    "seasons_stats_final['3fg_pct'] = seasons_stats_final['3P_SUM']/seasons_stats_final['3PA_SUM']\n",
    "# ts_pct = SUM(PTS)/(2*(SUM(FGA) + 0.44*SUM(FTA)))\n",
    "seasons_stats_final['ts_pct'] = seasons_stats_final['PTS_SUM']/(2*(seasons_stats_final['FGA_SUM'] + 0.44*seasons_stats_final['FTA_SUM'])) \n",
    "# dbpm_norm = SUM(DBPM*MP)/SUM(MP) \n",
    "seasons_stats_final['dbpm_norm'] = seasons_stats_final['DBPM*MP_SUM']/seasons_stats_final['MP_SUM']\n",
    "# obpm_norm = SUM(OBPM*MP)/SUM(MP)\n",
    "seasons_stats_final['obpm_norm'] = seasons_stats_final['OBPM*MP_SUM']/seasons_stats_final['MP_SUM']\n",
    "# rename columns\n",
    "seasons_stats_final.rename(columns = {'DBPM*MP_SUM':'dbpm_tot', 'OBPM*MP_SUM':'obpm_tot'}, inplace = True)\n",
    "\n",
    "print(seasons_stats_final.shape)\n",
    "seasons_stats_final.head(10)"
   ]
  },
  {
   "cell_type": "markdown",
   "id": "30110a1f",
   "metadata": {},
   "source": [
    "**Discussion:** At this point seasons_stats_final df is ready to be merged with ranking_final df that is creaded in the section above."
   ]
  },
  {
   "cell_type": "markdown",
   "id": "8f91f02e",
   "metadata": {},
   "source": [
    "### Create team_stats_final table"
   ]
  },
  {
   "cell_type": "code",
   "execution_count": 40,
   "id": "47a3e836",
   "metadata": {},
   "outputs": [
    {
     "name": "stdout",
     "output_type": "stream",
     "text": [
      "<class 'pandas.core.frame.DataFrame'>\n",
      "RangeIndex: 419 entries, 0 to 418\n",
      "Data columns (total 25 columns):\n",
      " #   Column       Non-Null Count  Dtype  \n",
      "---  ------       --------------  -----  \n",
      " 0   Year         419 non-null    float64\n",
      " 1   Tm           419 non-null    object \n",
      " 2   MP_SUM       419 non-null    float64\n",
      " 3   OBPM_SUM     419 non-null    float64\n",
      " 4   DBMP_SUM     419 non-null    float64\n",
      " 5   3P_SUM       419 non-null    float64\n",
      " 6   3PA_SUM      419 non-null    float64\n",
      " 7   2P_SUM       419 non-null    float64\n",
      " 8   2PA_SUM      419 non-null    float64\n",
      " 9   FGA_SUM      419 non-null    float64\n",
      " 10  FT_SUM       419 non-null    float64\n",
      " 11  FTA_SUM      419 non-null    float64\n",
      " 12  PTS_SUM      419 non-null    float64\n",
      " 13  dbpm_tot     419 non-null    float64\n",
      " 14  obpm_tot     419 non-null    float64\n",
      " 15  pts_per_min  419 non-null    float64\n",
      " 16  2ft_pct      419 non-null    float64\n",
      " 17  3fg_pct      419 non-null    float64\n",
      " 18  ts_pct       419 non-null    float64\n",
      " 19  dbpm_norm    419 non-null    float64\n",
      " 20  obpm_norm    419 non-null    float64\n",
      " 21  TEAM         419 non-null    object \n",
      " 22  G            419 non-null    int64  \n",
      " 23  W            419 non-null    int64  \n",
      " 24  L            419 non-null    int64  \n",
      "dtypes: float64(20), int64(3), object(2)\n",
      "memory usage: 82.0+ KB\n"
     ]
    }
   ],
   "source": [
    "# Merging the final dataframes                     \n",
    "team_stats_grand_final = pd.merge(seasons_stats_final, ranking_final, how ='left', on =['Year', 'Tm'])\n",
    "# Check\n",
    "team_stats_grand_final.info()"
   ]
  },
  {
   "cell_type": "markdown",
   "id": "030f0cfb",
   "metadata": {},
   "source": [
    "**Note:** After the merging of both tables, the column names and number of non-null rows looks as expected. "
   ]
  },
  {
   "cell_type": "code",
   "execution_count": 41,
   "id": "93b82768",
   "metadata": {},
   "outputs": [
    {
     "data": {
      "text/plain": [
       "Year           0\n",
       "Tm             0\n",
       "MP_SUM         0\n",
       "OBPM_SUM       0\n",
       "DBMP_SUM       0\n",
       "3P_SUM         0\n",
       "3PA_SUM        0\n",
       "2P_SUM         0\n",
       "2PA_SUM        0\n",
       "FGA_SUM        0\n",
       "FT_SUM         0\n",
       "FTA_SUM        0\n",
       "PTS_SUM        0\n",
       "dbpm_tot       0\n",
       "obpm_tot       0\n",
       "pts_per_min    0\n",
       "2ft_pct        0\n",
       "3fg_pct        0\n",
       "ts_pct         0\n",
       "dbpm_norm      0\n",
       "obpm_norm      0\n",
       "TEAM           0\n",
       "G              0\n",
       "W              0\n",
       "L              0\n",
       "dtype: int64"
      ]
     },
     "execution_count": 41,
     "metadata": {},
     "output_type": "execute_result"
    }
   ],
   "source": [
    "# Check for null values per column\n",
    "team_stats_grand_final.isnull().sum()"
   ]
  },
  {
   "cell_type": "markdown",
   "id": "36cfd5e3",
   "metadata": {},
   "source": [
    "**Note:** As expected there is 0 null or NA values per cell. "
   ]
  },
  {
   "cell_type": "code",
   "execution_count": 42,
   "id": "5aa19442",
   "metadata": {},
   "outputs": [
    {
     "name": "stdout",
     "output_type": "stream",
     "text": [
      "<class 'pandas.core.frame.DataFrame'>\n",
      "RangeIndex: 419 entries, 0 to 418\n",
      "Data columns (total 25 columns):\n",
      " #   Column       Non-Null Count  Dtype  \n",
      "---  ------       --------------  -----  \n",
      " 0   Year         419 non-null    float64\n",
      " 1   Tm           419 non-null    object \n",
      " 2   MP_SUM       419 non-null    float64\n",
      " 3   OBPM_SUM     419 non-null    float64\n",
      " 4   DBMP_SUM     419 non-null    float64\n",
      " 5   3P_SUM       419 non-null    float64\n",
      " 6   3PA_SUM      419 non-null    float64\n",
      " 7   2P_SUM       419 non-null    float64\n",
      " 8   2PA_SUM      419 non-null    float64\n",
      " 9   FGA_SUM      419 non-null    float64\n",
      " 10  FT_SUM       419 non-null    float64\n",
      " 11  FTA_SUM      419 non-null    float64\n",
      " 12  PTS_SUM      419 non-null    float64\n",
      " 13  dbpm_tot     419 non-null    float64\n",
      " 14  obpm_tot     419 non-null    float64\n",
      " 15  pts_per_min  419 non-null    float64\n",
      " 16  2ft_pct      419 non-null    float64\n",
      " 17  3fg_pct      419 non-null    float64\n",
      " 18  ts_pct       419 non-null    float64\n",
      " 19  dbpm_norm    419 non-null    float64\n",
      " 20  obpm_norm    419 non-null    float64\n",
      " 21  TEAM         419 non-null    object \n",
      " 22  games_tot    419 non-null    int64  \n",
      " 23  wins_tot     419 non-null    int64  \n",
      " 24  losses_tot   419 non-null    int64  \n",
      "dtypes: float64(20), int64(3), object(2)\n",
      "memory usage: 82.0+ KB\n"
     ]
    }
   ],
   "source": [
    "# Change column name \n",
    "team_stats_grand_final.rename(columns = {'G':'games_tot', 'W':'wins_tot', 'L':'losses_tot'}, inplace = True)\n",
    "team_stats_grand_final.info()"
   ]
  },
  {
   "cell_type": "code",
   "execution_count": 43,
   "id": "23dc48ef",
   "metadata": {},
   "outputs": [
    {
     "name": "stdout",
     "output_type": "stream",
     "text": [
      "<class 'pandas.core.frame.DataFrame'>\n",
      "RangeIndex: 389 entries, 0 to 388\n",
      "Data columns (total 25 columns):\n",
      " #   Column       Non-Null Count  Dtype  \n",
      "---  ------       --------------  -----  \n",
      " 0   Year         389 non-null    float64\n",
      " 1   Tm           389 non-null    object \n",
      " 2   MP_SUM       389 non-null    float64\n",
      " 3   OBPM_SUM     389 non-null    float64\n",
      " 4   DBMP_SUM     389 non-null    float64\n",
      " 5   3P_SUM       389 non-null    float64\n",
      " 6   3PA_SUM      389 non-null    float64\n",
      " 7   2P_SUM       389 non-null    float64\n",
      " 8   2PA_SUM      389 non-null    float64\n",
      " 9   FGA_SUM      389 non-null    float64\n",
      " 10  FT_SUM       389 non-null    float64\n",
      " 11  FTA_SUM      389 non-null    float64\n",
      " 12  PTS_SUM      389 non-null    float64\n",
      " 13  dbpm_tot     389 non-null    float64\n",
      " 14  obpm_tot     389 non-null    float64\n",
      " 15  pts_per_min  389 non-null    float64\n",
      " 16  2ft_pct      389 non-null    float64\n",
      " 17  3fg_pct      389 non-null    float64\n",
      " 18  ts_pct       389 non-null    float64\n",
      " 19  dbpm_norm    389 non-null    float64\n",
      " 20  obpm_norm    389 non-null    float64\n",
      " 21  TEAM         389 non-null    object \n",
      " 22  games_tot    389 non-null    int64  \n",
      " 23  wins_tot     389 non-null    int64  \n",
      " 24  losses_tot   389 non-null    int64  \n",
      "dtypes: float64(20), int64(3), object(2)\n",
      "memory usage: 76.1+ KB\n"
     ]
    }
   ],
   "source": [
    "# Remove year 2012 due to 66 games and not 82 games per season \n",
    "team_stats_final = team_stats_grand_final.loc[team_stats_grand_final['Year'] != 2012].reset_index(drop=True)\n",
    "team_stats_final.info()\n"
   ]
  },
  {
   "cell_type": "code",
   "execution_count": 44,
   "id": "3d2a5695",
   "metadata": {},
   "outputs": [],
   "source": [
    "# Save it to csv\n",
    "team_stats_final.to_csv('Resources/team_stats_final.csv', index=False)"
   ]
  },
  {
   "cell_type": "markdown",
   "id": "a61a9226",
   "metadata": {},
   "source": [
    "**Discussion:** At this point team_stats_final df is ready to be used for ML models."
   ]
  },
  {
   "cell_type": "markdown",
   "id": "c176381f",
   "metadata": {},
   "source": [
    "### Outlier detection for team_stats_final for culculated fields"
   ]
  },
  {
   "cell_type": "code",
   "execution_count": 49,
   "id": "0d54d472",
   "metadata": {},
   "outputs": [
    {
     "data": {
      "text/plain": [
       "Index(['Year', 'Tm', 'MP_SUM', 'OBPM_SUM', 'DBMP_SUM', '3P_SUM', '3PA_SUM',\n",
       "       '2P_SUM', '2PA_SUM', 'FGA_SUM', 'FT_SUM', 'FTA_SUM', 'PTS_SUM',\n",
       "       'dbpm_tot', 'obpm_tot', 'pts_per_min', '2ft_pct', '3fg_pct', 'ts_pct',\n",
       "       'dbpm_norm', 'obpm_norm', 'TEAM', 'games_tot', 'wins_tot',\n",
       "       'losses_tot'],\n",
       "      dtype='object')"
      ]
     },
     "execution_count": 49,
     "metadata": {},
     "output_type": "execute_result"
    }
   ],
   "source": [
    "# Get columns' names\n",
    "team_stats_final.columns"
   ]
  },
  {
   "cell_type": "code",
   "execution_count": 52,
   "id": "56eee54d",
   "metadata": {},
   "outputs": [
    {
     "data": {
      "text/html": [
       "<div>\n",
       "<style scoped>\n",
       "    .dataframe tbody tr th:only-of-type {\n",
       "        vertical-align: middle;\n",
       "    }\n",
       "\n",
       "    .dataframe tbody tr th {\n",
       "        vertical-align: top;\n",
       "    }\n",
       "\n",
       "    .dataframe thead th {\n",
       "        text-align: right;\n",
       "    }\n",
       "</style>\n",
       "<table border=\"1\" class=\"dataframe\">\n",
       "  <thead>\n",
       "    <tr style=\"text-align: right;\">\n",
       "      <th></th>\n",
       "      <th>dbpm_norm</th>\n",
       "      <th>obpm_norm</th>\n",
       "      <th>pts_per_min</th>\n",
       "      <th>2ft_pct</th>\n",
       "      <th>3fg_pct</th>\n",
       "      <th>ts_pct</th>\n",
       "      <th>wins_tot</th>\n",
       "    </tr>\n",
       "  </thead>\n",
       "  <tbody>\n",
       "    <tr>\n",
       "      <th>count</th>\n",
       "      <td>389.000000</td>\n",
       "      <td>389.000000</td>\n",
       "      <td>389.000000</td>\n",
       "      <td>389.000000</td>\n",
       "      <td>389.000000</td>\n",
       "      <td>389.000000</td>\n",
       "      <td>389.000000</td>\n",
       "    </tr>\n",
       "    <tr>\n",
       "      <th>mean</th>\n",
       "      <td>0.000687</td>\n",
       "      <td>-0.000327</td>\n",
       "      <td>0.411558</td>\n",
       "      <td>0.484502</td>\n",
       "      <td>0.355593</td>\n",
       "      <td>0.538141</td>\n",
       "      <td>40.997429</td>\n",
       "    </tr>\n",
       "    <tr>\n",
       "      <th>std</th>\n",
       "      <td>0.741509</td>\n",
       "      <td>0.780523</td>\n",
       "      <td>0.020916</td>\n",
       "      <td>0.020564</td>\n",
       "      <td>0.018833</td>\n",
       "      <td>0.019294</td>\n",
       "      <td>12.507832</td>\n",
       "    </tr>\n",
       "    <tr>\n",
       "      <th>min</th>\n",
       "      <td>-2.103661</td>\n",
       "      <td>-2.421791</td>\n",
       "      <td>0.350651</td>\n",
       "      <td>0.430962</td>\n",
       "      <td>0.305085</td>\n",
       "      <td>0.486444</td>\n",
       "      <td>10.000000</td>\n",
       "    </tr>\n",
       "    <tr>\n",
       "      <th>25%</th>\n",
       "      <td>-0.503758</td>\n",
       "      <td>-0.522478</td>\n",
       "      <td>0.397682</td>\n",
       "      <td>0.470924</td>\n",
       "      <td>0.344009</td>\n",
       "      <td>0.523773</td>\n",
       "      <td>32.000000</td>\n",
       "    </tr>\n",
       "    <tr>\n",
       "      <th>50%</th>\n",
       "      <td>-0.022917</td>\n",
       "      <td>-0.055262</td>\n",
       "      <td>0.409804</td>\n",
       "      <td>0.482638</td>\n",
       "      <td>0.354517</td>\n",
       "      <td>0.537036</td>\n",
       "      <td>41.000000</td>\n",
       "    </tr>\n",
       "    <tr>\n",
       "      <th>75%</th>\n",
       "      <td>0.490280</td>\n",
       "      <td>0.534108</td>\n",
       "      <td>0.424506</td>\n",
       "      <td>0.496239</td>\n",
       "      <td>0.367612</td>\n",
       "      <td>0.549976</td>\n",
       "      <td>50.000000</td>\n",
       "    </tr>\n",
       "    <tr>\n",
       "      <th>max</th>\n",
       "      <td>2.322030</td>\n",
       "      <td>2.298344</td>\n",
       "      <td>0.480435</td>\n",
       "      <td>0.557506</td>\n",
       "      <td>0.415509</td>\n",
       "      <td>0.597372</td>\n",
       "      <td>73.000000</td>\n",
       "    </tr>\n",
       "  </tbody>\n",
       "</table>\n",
       "</div>"
      ],
      "text/plain": [
       "        dbpm_norm   obpm_norm  pts_per_min     2ft_pct     3fg_pct  \\\n",
       "count  389.000000  389.000000   389.000000  389.000000  389.000000   \n",
       "mean     0.000687   -0.000327     0.411558    0.484502    0.355593   \n",
       "std      0.741509    0.780523     0.020916    0.020564    0.018833   \n",
       "min     -2.103661   -2.421791     0.350651    0.430962    0.305085   \n",
       "25%     -0.503758   -0.522478     0.397682    0.470924    0.344009   \n",
       "50%     -0.022917   -0.055262     0.409804    0.482638    0.354517   \n",
       "75%      0.490280    0.534108     0.424506    0.496239    0.367612   \n",
       "max      2.322030    2.298344     0.480435    0.557506    0.415509   \n",
       "\n",
       "           ts_pct    wins_tot  \n",
       "count  389.000000  389.000000  \n",
       "mean     0.538141   40.997429  \n",
       "std      0.019294   12.507832  \n",
       "min      0.486444   10.000000  \n",
       "25%      0.523773   32.000000  \n",
       "50%      0.537036   41.000000  \n",
       "75%      0.549976   50.000000  \n",
       "max      0.597372   73.000000  "
      ]
     },
     "execution_count": 52,
     "metadata": {},
     "output_type": "execute_result"
    }
   ],
   "source": [
    "# Detect range of values for each calculated column\n",
    "team_stats_calc = team_stats_final[['dbpm_norm', 'obpm_norm', 'pts_per_min', '2ft_pct', '3fg_pct', 'ts_pct', 'wins_tot']]\n",
    "team_stats_calc.describe()"
   ]
  },
  {
   "cell_type": "code",
   "execution_count": 53,
   "id": "dfc52696",
   "metadata": {},
   "outputs": [
    {
     "data": {
      "text/plain": [
       "<Axes: xlabel='dbpm_norm'>"
      ]
     },
     "execution_count": 53,
     "metadata": {},
     "output_type": "execute_result"
    },
    {
     "data": {
      "image/png": "[encoded data removed]",
      "text/plain": [
       "<Figure size 640x480 with 1 Axes>"
      ]
     },
     "metadata": {},
     "output_type": "display_data"
    }
   ],
   "source": [
    "# Display boxplot to display the distribution of a column\n",
    "sns.boxplot(x=team_stats_calc['dbpm_norm'])"
   ]
  },
  {
   "cell_type": "code",
   "execution_count": 54,
   "id": "4f4e92a0",
   "metadata": {},
   "outputs": [
    {
     "data": {
      "text/plain": [
       "<seaborn.axisgrid.FacetGrid at 0x2105908f940>"
      ]
     },
     "execution_count": 54,
     "metadata": {},
     "output_type": "execute_result"
    },
    {
     "data": {
      "image/png": "[encoded data removed]",
      "text/plain": [
       "<Figure size 500x500 with 1 Axes>"
      ]
     },
     "metadata": {},
     "output_type": "display_data"
    }
   ],
   "source": [
    " # Display histogram to display the distribution of a column\n",
    " sns.displot(data=team_stats_calc['dbpm_norm'])"
   ]
  },
  {
   "cell_type": "code",
   "execution_count": 55,
   "id": "e8092f39",
   "metadata": {},
   "outputs": [
    {
     "data": {
      "text/plain": [
       "<Axes: xlabel='obpm_norm'>"
      ]
     },
     "execution_count": 55,
     "metadata": {},
     "output_type": "execute_result"
    },
    {
     "data": {
      "image/png": "[encoded data removed]",
      "text/plain": [
       "<Figure size 640x480 with 1 Axes>"
      ]
     },
     "metadata": {},
     "output_type": "display_data"
    }
   ],
   "source": [
    "# Display boxplot to display the distribution of a column\n",
    "sns.boxplot(x=team_stats_calc['obpm_norm'])"
   ]
  },
  {
   "cell_type": "code",
   "execution_count": 56,
   "id": "b79ea42a",
   "metadata": {},
   "outputs": [
    {
     "data": {
      "text/plain": [
       "<seaborn.axisgrid.FacetGrid at 0x2105a02c910>"
      ]
     },
     "execution_count": 56,
     "metadata": {},
     "output_type": "execute_result"
    },
    {
     "data": {
      "image/png": "[encoded data removed]",
      "text/plain": [
       "<Figure size 500x500 with 1 Axes>"
      ]
     },
     "metadata": {},
     "output_type": "display_data"
    }
   ],
   "source": [
    " # Display histogram to display the distribution of a column\n",
    " sns.displot(data=team_stats_calc['obpm_norm'])"
   ]
  },
  {
   "cell_type": "code",
   "execution_count": 57,
   "id": "fd801e46",
   "metadata": {},
   "outputs": [
    {
     "data": {
      "text/plain": [
       "<Axes: xlabel='pts_per_min'>"
      ]
     },
     "execution_count": 57,
     "metadata": {},
     "output_type": "execute_result"
    },
    {
     "data": {
      "image/png": "[encoded data removed]",
      "text/plain": [
       "<Figure size 640x480 with 1 Axes>"
      ]
     },
     "metadata": {},
     "output_type": "display_data"
    }
   ],
   "source": [
    "# Display boxplot to display the distribution of a column\n",
    "sns.boxplot(x=team_stats_calc['pts_per_min'])"
   ]
  },
  {
   "cell_type": "code",
   "execution_count": 58,
   "id": "35a50e13",
   "metadata": {},
   "outputs": [
    {
     "data": {
      "text/plain": [
       "<seaborn.axisgrid.FacetGrid at 0x2105a2a78e0>"
      ]
     },
     "execution_count": 58,
     "metadata": {},
     "output_type": "execute_result"
    },
    {
     "data": {
      "image/png": "[encoded data removed]",
      "text/plain": [
       "<Figure size 500x500 with 1 Axes>"
      ]
     },
     "metadata": {},
     "output_type": "display_data"
    }
   ],
   "source": [
    " # Display histogram to display the distribution of a column\n",
    " sns.displot(data=team_stats_calc['pts_per_min'])"
   ]
  },
  {
   "cell_type": "code",
   "execution_count": 59,
   "id": "345be71b",
   "metadata": {},
   "outputs": [
    {
     "data": {
      "text/plain": [
       "<Axes: xlabel='2ft_pct'>"
      ]
     },
     "execution_count": 59,
     "metadata": {},
     "output_type": "execute_result"
    },
    {
     "data": {
      "image/png": "[encoded data removed]",
      "text/plain": [
       "<Figure size 640x480 with 1 Axes>"
      ]
     },
     "metadata": {},
     "output_type": "display_data"
    }
   ],
   "source": [
    "# Display boxplot to display the distribution of a column\n",
    "sns.boxplot(x=team_stats_calc['2ft_pct'])"
   ]
  },
  {
   "cell_type": "code",
   "execution_count": 60,
   "id": "7bf08739",
   "metadata": {},
   "outputs": [
    {
     "data": {
      "text/plain": [
       "<seaborn.axisgrid.FacetGrid at 0x210590c99c0>"
      ]
     },
     "execution_count": 60,
     "metadata": {},
     "output_type": "execute_result"
    },
    {
     "data": {
      "image/png": "[encoded data removed]",
      "text/plain": [
       "<Figure size 500x500 with 1 Axes>"
      ]
     },
     "metadata": {},
     "output_type": "display_data"
    }
   ],
   "source": [
    " # Display histogram to display the distribution of a column\n",
    " sns.displot(data=team_stats_calc['2ft_pct'])"
   ]
  },
  {
   "cell_type": "code",
   "execution_count": 61,
   "id": "90084d46",
   "metadata": {},
   "outputs": [
    {
     "data": {
      "text/plain": [
       "<Axes: xlabel='3fg_pct'>"
      ]
     },
     "execution_count": 61,
     "metadata": {},
     "output_type": "execute_result"
    },
    {
     "data": {
      "image/png": "[encoded data removed]",
      "text/plain": [
       "<Figure size 640x480 with 1 Axes>"
      ]
     },
     "metadata": {},
     "output_type": "display_data"
    }
   ],
   "source": [
    "# Display boxplot to display the distribution of a column\n",
    "sns.boxplot(x=team_stats_calc['3fg_pct'])"
   ]
  },
  {
   "cell_type": "code",
   "execution_count": 62,
   "id": "7e59ca46",
   "metadata": {},
   "outputs": [
    {
     "data": {
      "text/plain": [
       "<seaborn.axisgrid.FacetGrid at 0x2105aec4490>"
      ]
     },
     "execution_count": 62,
     "metadata": {},
     "output_type": "execute_result"
    },
    {
     "data": {
      "image/png": "[encoded data removed]",
      "text/plain": [
       "<Figure size 500x500 with 1 Axes>"
      ]
     },
     "metadata": {},
     "output_type": "display_data"
    }
   ],
   "source": [
    " # Display histogram to display the distribution of a column\n",
    " sns.displot(data=team_stats_calc['3fg_pct'])"
   ]
  },
  {
   "cell_type": "code",
   "execution_count": 63,
   "id": "10c7c967",
   "metadata": {},
   "outputs": [
    {
     "data": {
      "text/plain": [
       "<Axes: xlabel='ts_pct'>"
      ]
     },
     "execution_count": 63,
     "metadata": {},
     "output_type": "execute_result"
    },
    {
     "data": {
      "image/png": "[encoded data removed]",
      "text/plain": [
       "<Figure size 640x480 with 1 Axes>"
      ]
     },
     "metadata": {},
     "output_type": "display_data"
    }
   ],
   "source": [
    "# Display boxplot to display the distribution of a column\n",
    "sns.boxplot(x=team_stats_calc['ts_pct'])"
   ]
  },
  {
   "cell_type": "code",
   "execution_count": 64,
   "id": "3b6d722f",
   "metadata": {},
   "outputs": [
    {
     "data": {
      "text/plain": [
       "<seaborn.axisgrid.FacetGrid at 0x2105afb8c70>"
      ]
     },
     "execution_count": 64,
     "metadata": {},
     "output_type": "execute_result"
    },
    {
     "data": {
      "image/png": "[encoded data removed]",
      "text/plain": [
       "<Figure size 500x500 with 1 Axes>"
      ]
     },
     "metadata": {},
     "output_type": "display_data"
    }
   ],
   "source": [
    " # Display histogram to display the distribution of a column\n",
    " sns.displot(data=team_stats_calc['ts_pct'])"
   ]
  },
  {
   "cell_type": "code",
   "execution_count": 65,
   "id": "e4c4b70b",
   "metadata": {},
   "outputs": [
    {
     "data": {
      "text/plain": [
       "<Axes: xlabel='wins_tot'>"
      ]
     },
     "execution_count": 65,
     "metadata": {},
     "output_type": "execute_result"
    },
    {
     "data": {
      "image/png": "[encoded data removed]",
      "text/plain": [
       "<Figure size 640x480 with 1 Axes>"
      ]
     },
     "metadata": {},
     "output_type": "display_data"
    }
   ],
   "source": [
    "# Display boxplot to display the distribution of a column\n",
    "sns.boxplot(x=team_stats_calc['wins_tot'])"
   ]
  },
  {
   "cell_type": "code",
   "execution_count": 66,
   "id": "ca095104",
   "metadata": {},
   "outputs": [
    {
     "data": {
      "text/plain": [
       "<seaborn.axisgrid.FacetGrid at 0x2105c181360>"
      ]
     },
     "execution_count": 66,
     "metadata": {},
     "output_type": "execute_result"
    },
    {
     "data": {
      "image/png": "[encoded data removed]",
      "text/plain": [
       "<Figure size 500x500 with 1 Axes>"
      ]
     },
     "metadata": {},
     "output_type": "display_data"
    }
   ],
   "source": [
    " # Display histogram to display the distribution of a column\n",
    " sns.displot(data=team_stats_calc['wins_tot'])"
   ]
  },
  {
   "cell_type": "markdown",
   "id": "8d3316ec",
   "metadata": {},
   "source": [
    "**Discussion:** dbpm_norm and obpm_norm mean and mediam are different from each other. However, the hystogram plots look close to normal distribution. For the rest of the columns mean and mediam are aproximatly the same and the hystogram looks normaly distributes. Thus, standard scaler is the right type of scaler for this data. \n",
    "<div> Interesting to note that wins_tot mean and mediam is at 41 as expected becuase at most the team can have 0 wins and at most 82 wins. \n",
    "<div> There are some outliers in each calculated column. However, we decided to keep them because on the hysrogram outliers look like a part of the normal distribution. "
   ]
  },
  {
   "cell_type": "markdown",
   "id": "6a44efe5",
   "metadata": {},
   "source": [
    "### Exploring Outlighers"
   ]
  },
  {
   "cell_type": "code",
   "execution_count": 79,
   "id": "434075ca",
   "metadata": {},
   "outputs": [
    {
     "name": "stdout",
     "output_type": "stream",
     "text": [
      "(2, 7)\n"
     ]
    },
    {
     "data": {
      "text/html": [
       "<div>\n",
       "<style scoped>\n",
       "    .dataframe tbody tr th:only-of-type {\n",
       "        vertical-align: middle;\n",
       "    }\n",
       "\n",
       "    .dataframe tbody tr th {\n",
       "        vertical-align: top;\n",
       "    }\n",
       "\n",
       "    .dataframe thead th {\n",
       "        text-align: right;\n",
       "    }\n",
       "</style>\n",
       "<table border=\"1\" class=\"dataframe\">\n",
       "  <thead>\n",
       "    <tr style=\"text-align: right;\">\n",
       "      <th></th>\n",
       "      <th>dbpm_norm</th>\n",
       "      <th>obpm_norm</th>\n",
       "      <th>pts_per_min</th>\n",
       "      <th>2ft_pct</th>\n",
       "      <th>3fg_pct</th>\n",
       "      <th>ts_pct</th>\n",
       "      <th>wins_tot</th>\n",
       "    </tr>\n",
       "  </thead>\n",
       "  <tbody>\n",
       "    <tr>\n",
       "      <th>24</th>\n",
       "      <td>2.322030</td>\n",
       "      <td>-0.278643</td>\n",
       "      <td>0.379701</td>\n",
       "      <td>0.459766</td>\n",
       "      <td>0.357895</td>\n",
       "      <td>0.510664</td>\n",
       "      <td>57</td>\n",
       "    </tr>\n",
       "    <tr>\n",
       "      <th>85</th>\n",
       "      <td>-2.103661</td>\n",
       "      <td>1.308800</td>\n",
       "      <td>0.424155</td>\n",
       "      <td>0.486614</td>\n",
       "      <td>0.370938</td>\n",
       "      <td>0.550692</td>\n",
       "      <td>35</td>\n",
       "    </tr>\n",
       "  </tbody>\n",
       "</table>\n",
       "</div>"
      ],
      "text/plain": [
       "    dbpm_norm  obpm_norm  pts_per_min   2ft_pct   3fg_pct    ts_pct  wins_tot\n",
       "24   2.322030  -0.278643     0.379701  0.459766  0.357895  0.510664        57\n",
       "85  -2.103661   1.308800     0.424155  0.486614  0.370938  0.550692        35"
      ]
     },
     "execution_count": 79,
     "metadata": {},
     "output_type": "execute_result"
    }
   ],
   "source": [
    "# Find ouliers' rows\n",
    "team_stats_calc_dbpm_norm_outliers = team_stats_calc.loc[(team_stats_calc['dbpm_norm'] < -2) | (team_stats_calc['dbpm_norm'] > 2)]\n",
    "print(team_stats_calc_dbpm_norm_outliers.shape)\n",
    "team_stats_calc_dbpm_norm_outliers.head(25)"
   ]
  },
  {
   "cell_type": "code",
   "execution_count": 80,
   "id": "93569b1d",
   "metadata": {},
   "outputs": [
    {
     "name": "stdout",
     "output_type": "stream",
     "text": [
      "(2, 7)\n"
     ]
    },
    {
     "data": {
      "text/html": [
       "<div>\n",
       "<style scoped>\n",
       "    .dataframe tbody tr th:only-of-type {\n",
       "        vertical-align: middle;\n",
       "    }\n",
       "\n",
       "    .dataframe tbody tr th {\n",
       "        vertical-align: top;\n",
       "    }\n",
       "\n",
       "    .dataframe thead th {\n",
       "        text-align: right;\n",
       "    }\n",
       "</style>\n",
       "<table border=\"1\" class=\"dataframe\">\n",
       "  <thead>\n",
       "    <tr style=\"text-align: right;\">\n",
       "      <th></th>\n",
       "      <th>dbpm_norm</th>\n",
       "      <th>obpm_norm</th>\n",
       "      <th>pts_per_min</th>\n",
       "      <th>2ft_pct</th>\n",
       "      <th>3fg_pct</th>\n",
       "      <th>ts_pct</th>\n",
       "      <th>wins_tot</th>\n",
       "    </tr>\n",
       "  </thead>\n",
       "  <tbody>\n",
       "    <tr>\n",
       "      <th>4</th>\n",
       "      <td>-0.991224</td>\n",
       "      <td>2.298344</td>\n",
       "      <td>0.435547</td>\n",
       "      <td>0.487530</td>\n",
       "      <td>0.348214</td>\n",
       "      <td>0.536059</td>\n",
       "      <td>52</td>\n",
       "    </tr>\n",
       "    <tr>\n",
       "      <th>321</th>\n",
       "      <td>0.187875</td>\n",
       "      <td>-2.421791</td>\n",
       "      <td>0.380871</td>\n",
       "      <td>0.448993</td>\n",
       "      <td>0.320370</td>\n",
       "      <td>0.493824</td>\n",
       "      <td>18</td>\n",
       "    </tr>\n",
       "  </tbody>\n",
       "</table>\n",
       "</div>"
      ],
      "text/plain": [
       "     dbpm_norm  obpm_norm  pts_per_min   2ft_pct   3fg_pct    ts_pct  wins_tot\n",
       "4    -0.991224   2.298344     0.435547  0.487530  0.348214  0.536059        52\n",
       "321   0.187875  -2.421791     0.380871  0.448993  0.320370  0.493824        18"
      ]
     },
     "execution_count": 80,
     "metadata": {},
     "output_type": "execute_result"
    }
   ],
   "source": [
    "# Find ouliers' rows\n",
    "team_stats_calc_obpm_norm_outliers = team_stats_calc.loc[(team_stats_calc['obpm_norm'] < -2) | (team_stats_calc['obpm_norm'] > 2)]\n",
    "print(team_stats_calc_obpm_norm_outliers.shape)\n",
    "team_stats_calc_obpm_norm_outliers.head(25)"
   ]
  },
  {
   "cell_type": "code",
   "execution_count": 88,
   "id": "2ccbddab",
   "metadata": {},
   "outputs": [
    {
     "name": "stdout",
     "output_type": "stream",
     "text": [
      "(389, 7)\n"
     ]
    },
    {
     "data": {
      "text/plain": [
       "(385, 7)"
      ]
     },
     "execution_count": 88,
     "metadata": {},
     "output_type": "execute_result"
    }
   ],
   "source": [
    "# Filter ouliers' rows\n",
    "team_stats_calc_RM_dbpm_norm_obpm_norm_outliers = team_stats_calc.loc[(team_stats_calc['dbpm_norm'] > -2) & (team_stats_calc['dbpm_norm'] < 2)]\n",
    "team_stats_calc_RM_dbpm_norm_obpm_norm_outliers = team_stats_calc_RM_dbpm_norm_obpm_norm_outliers.loc[(team_stats_calc['obpm_norm'] > -2) & (team_stats_calc['obpm_norm'] < 2)]\n",
    "print(team_stats_calc.shape)\n",
    "team_stats_calc_RM_dbpm_norm_obpm_norm_outliers.shape"
   ]
  },
  {
   "cell_type": "code",
   "execution_count": 89,
   "id": "6fea3512",
   "metadata": {},
   "outputs": [
    {
     "data": {
      "text/html": [
       "<div>\n",
       "<style scoped>\n",
       "    .dataframe tbody tr th:only-of-type {\n",
       "        vertical-align: middle;\n",
       "    }\n",
       "\n",
       "    .dataframe tbody tr th {\n",
       "        vertical-align: top;\n",
       "    }\n",
       "\n",
       "    .dataframe thead th {\n",
       "        text-align: right;\n",
       "    }\n",
       "</style>\n",
       "<table border=\"1\" class=\"dataframe\">\n",
       "  <thead>\n",
       "    <tr style=\"text-align: right;\">\n",
       "      <th></th>\n",
       "      <th>dbpm_norm</th>\n",
       "      <th>obpm_norm</th>\n",
       "      <th>pts_per_min</th>\n",
       "      <th>2ft_pct</th>\n",
       "      <th>3fg_pct</th>\n",
       "      <th>ts_pct</th>\n",
       "      <th>wins_tot</th>\n",
       "    </tr>\n",
       "  </thead>\n",
       "  <tbody>\n",
       "    <tr>\n",
       "      <th>count</th>\n",
       "      <td>385.000000</td>\n",
       "      <td>385.000000</td>\n",
       "      <td>385.000000</td>\n",
       "      <td>385.000000</td>\n",
       "      <td>385.000000</td>\n",
       "      <td>385.000000</td>\n",
       "      <td>385.000000</td>\n",
       "    </tr>\n",
       "    <tr>\n",
       "      <th>mean</th>\n",
       "      <td>0.002214</td>\n",
       "      <td>-0.002686</td>\n",
       "      <td>0.411625</td>\n",
       "      <td>0.484645</td>\n",
       "      <td>0.355658</td>\n",
       "      <td>0.538300</td>\n",
       "      <td>41.002597</td>\n",
       "    </tr>\n",
       "    <tr>\n",
       "      <th>std</th>\n",
       "      <td>0.726184</td>\n",
       "      <td>0.762799</td>\n",
       "      <td>0.020857</td>\n",
       "      <td>0.020551</td>\n",
       "      <td>0.018825</td>\n",
       "      <td>0.019199</td>\n",
       "      <td>12.474870</td>\n",
       "    </tr>\n",
       "    <tr>\n",
       "      <th>min</th>\n",
       "      <td>-1.950232</td>\n",
       "      <td>-1.755382</td>\n",
       "      <td>0.350651</td>\n",
       "      <td>0.430962</td>\n",
       "      <td>0.305085</td>\n",
       "      <td>0.486444</td>\n",
       "      <td>10.000000</td>\n",
       "    </tr>\n",
       "    <tr>\n",
       "      <th>25%</th>\n",
       "      <td>-0.500277</td>\n",
       "      <td>-0.522478</td>\n",
       "      <td>0.397922</td>\n",
       "      <td>0.470935</td>\n",
       "      <td>0.344009</td>\n",
       "      <td>0.523880</td>\n",
       "      <td>32.000000</td>\n",
       "    </tr>\n",
       "    <tr>\n",
       "      <th>50%</th>\n",
       "      <td>-0.022917</td>\n",
       "      <td>-0.055262</td>\n",
       "      <td>0.409804</td>\n",
       "      <td>0.482638</td>\n",
       "      <td>0.354517</td>\n",
       "      <td>0.537053</td>\n",
       "      <td>41.000000</td>\n",
       "    </tr>\n",
       "    <tr>\n",
       "      <th>75%</th>\n",
       "      <td>0.490280</td>\n",
       "      <td>0.521762</td>\n",
       "      <td>0.424506</td>\n",
       "      <td>0.496269</td>\n",
       "      <td>0.367612</td>\n",
       "      <td>0.549976</td>\n",
       "      <td>50.000000</td>\n",
       "    </tr>\n",
       "    <tr>\n",
       "      <th>max</th>\n",
       "      <td>1.918107</td>\n",
       "      <td>1.968003</td>\n",
       "      <td>0.480435</td>\n",
       "      <td>0.557506</td>\n",
       "      <td>0.415509</td>\n",
       "      <td>0.597372</td>\n",
       "      <td>73.000000</td>\n",
       "    </tr>\n",
       "  </tbody>\n",
       "</table>\n",
       "</div>"
      ],
      "text/plain": [
       "        dbpm_norm   obpm_norm  pts_per_min     2ft_pct     3fg_pct  \\\n",
       "count  385.000000  385.000000   385.000000  385.000000  385.000000   \n",
       "mean     0.002214   -0.002686     0.411625    0.484645    0.355658   \n",
       "std      0.726184    0.762799     0.020857    0.020551    0.018825   \n",
       "min     -1.950232   -1.755382     0.350651    0.430962    0.305085   \n",
       "25%     -0.500277   -0.522478     0.397922    0.470935    0.344009   \n",
       "50%     -0.022917   -0.055262     0.409804    0.482638    0.354517   \n",
       "75%      0.490280    0.521762     0.424506    0.496269    0.367612   \n",
       "max      1.918107    1.968003     0.480435    0.557506    0.415509   \n",
       "\n",
       "           ts_pct    wins_tot  \n",
       "count  385.000000  385.000000  \n",
       "mean     0.538300   41.002597  \n",
       "std      0.019199   12.474870  \n",
       "min      0.486444   10.000000  \n",
       "25%      0.523880   32.000000  \n",
       "50%      0.537053   41.000000  \n",
       "75%      0.549976   50.000000  \n",
       "max      0.597372   73.000000  "
      ]
     },
     "execution_count": 89,
     "metadata": {},
     "output_type": "execute_result"
    }
   ],
   "source": [
    "# Detect range of values\n",
    "team_stats_calc_RM_dbpm_norm_obpm_norm_outliers.describe()"
   ]
  },
  {
   "cell_type": "code",
   "execution_count": 90,
   "id": "94396d02",
   "metadata": {},
   "outputs": [
    {
     "data": {
      "text/plain": [
       "<Axes: xlabel='dbpm_norm'>"
      ]
     },
     "execution_count": 90,
     "metadata": {},
     "output_type": "execute_result"
    },
    {
     "data": {
      "image/png": "[encoded data removed]",
      "text/plain": [
       "<Figure size 640x480 with 1 Axes>"
      ]
     },
     "metadata": {},
     "output_type": "display_data"
    }
   ],
   "source": [
    "# Display boxplot to display the distribution of a column\n",
    "sns.boxplot(x=team_stats_calc_RM_dbpm_norm_obpm_norm_outliers['dbpm_norm'])"
   ]
  },
  {
   "cell_type": "code",
   "execution_count": 91,
   "id": "7929a5e3",
   "metadata": {},
   "outputs": [
    {
     "data": {
      "text/plain": [
       "<seaborn.axisgrid.FacetGrid at 0x2105efc29e0>"
      ]
     },
     "execution_count": 91,
     "metadata": {},
     "output_type": "execute_result"
    },
    {
     "data": {
      "image/png": "[encoded data removed]",
      "text/plain": [
       "<Figure size 500x500 with 1 Axes>"
      ]
     },
     "metadata": {},
     "output_type": "display_data"
    }
   ],
   "source": [
    " # Display histogram to display the distribution of a column\n",
    " sns.displot(data=team_stats_calc_RM_dbpm_norm_obpm_norm_outliers['dbpm_norm'])"
   ]
  },
  {
   "cell_type": "code",
   "execution_count": 92,
   "id": "6d77a746",
   "metadata": {},
   "outputs": [
    {
     "data": {
      "text/plain": [
       "<Axes: xlabel='obpm_norm'>"
      ]
     },
     "execution_count": 92,
     "metadata": {},
     "output_type": "execute_result"
    },
    {
     "data": {
      "image/png": "[encoded data removed]",
      "text/plain": [
       "<Figure size 640x480 with 1 Axes>"
      ]
     },
     "metadata": {},
     "output_type": "display_data"
    }
   ],
   "source": [
    "# Display boxplot to display the distribution of a column\n",
    "sns.boxplot(x=team_stats_calc_RM_dbpm_norm_obpm_norm_outliers['obpm_norm'])"
   ]
  },
  {
   "cell_type": "code",
   "execution_count": 93,
   "id": "629cedd0",
   "metadata": {},
   "outputs": [
    {
     "data": {
      "text/plain": [
       "<seaborn.axisgrid.FacetGrid at 0x2105f085ab0>"
      ]
     },
     "execution_count": 93,
     "metadata": {},
     "output_type": "execute_result"
    },
    {
     "data": {
      "image/png": "[encoded data removed]",
      "text/plain": [
       "<Figure size 500x500 with 1 Axes>"
      ]
     },
     "metadata": {},
     "output_type": "display_data"
    }
   ],
   "source": [
    " # Display histogram to display the distribution of a column\n",
    " sns.displot(data=team_stats_calc_RM_dbpm_norm_obpm_norm_outliers['obpm_norm'])"
   ]
  },
  {
   "cell_type": "markdown",
   "id": "b56f742a",
   "metadata": {},
   "source": [
    "**Discussion:** Removing outliers from dbpm_norm and obpm_norm didn't bring mean and median much closer togther and didn't change much the \n",
    "    distibution. Thus, it is best to leave outliers as they are a part of the real data. "
   ]
  },
  {
   "cell_type": "code",
   "execution_count": null,
   "id": "ebdde817",
   "metadata": {},
   "outputs": [],
   "source": []
  }
 ],
 "metadata": {
  "kernelspec": {
   "display_name": "dev",
   "language": "python",
   "name": "dev"
  },
  "language_info": {
   "codemirror_mode": {
    "name": "ipython",
    "version": 3
   },
   "file_extension": ".py",
   "mimetype": "text/x-python",
   "name": "python",
   "nbconvert_exporter": "python",
   "pygments_lexer": "ipython3",
   "version": "3.10.13"
  }
 },
 "nbformat": 4,
 "nbformat_minor": 5
}
